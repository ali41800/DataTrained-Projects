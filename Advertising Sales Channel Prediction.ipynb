{
 "cells": [
  {
   "cell_type": "markdown",
   "metadata": {},
   "source": [
    "# ---------------------- Advertising Sales Channel Prediction-------------------------"
   ]
  },
  {
   "cell_type": "markdown",
   "metadata": {},
   "source": [
    "### -----------------------------------------------------------------------------------------------------------------------------------------------"
   ]
  },
  {
   "cell_type": "markdown",
   "metadata": {},
   "source": [
    "##### Problem Statement"
   ]
  },
  {
   "cell_type": "markdown",
   "metadata": {},
   "source": [
    "# Sales Channel Prediction Case Study:-\n",
    "--------------------------------------------------------------------------\n",
    "\n",
    "**When a company enters a market, the distribution strategy and channel it uses are keys to its success in the market, as well as market know-how and customer knowledge and understanding. Because an effective distribution strategy under efficient supply-chain management opens doors for attaining competitive advantage and strong brand equity in the market, it is a component of the marketing mix that cannot be ignored..** \n",
    "\n",
    "**The distribution strategy and the channel design have to be right the first time. The case study of Sales channel includes the detailed study of TV, radio and newspaper channel. The predict the total sales generated from all the sales channel.** "
   ]
  },
  {
   "cell_type": "markdown",
   "metadata": {},
   "source": [
    "### ------------------------------------------------------------------------------------------------------------------------------------------"
   ]
  },
  {
   "cell_type": "code",
   "execution_count": 1,
   "metadata": {},
   "outputs": [],
   "source": [
    "import numpy as np\n",
    "import pandas as pd\n",
    "import matplotlib.pyplot as plt\n",
    "import seaborn as sns\n",
    "import warnings\n",
    "warnings.filterwarnings('ignore')"
   ]
  },
  {
   "cell_type": "code",
   "execution_count": 2,
   "metadata": {},
   "outputs": [
    {
     "data": {
      "text/html": [
       "<div>\n",
       "<style scoped>\n",
       "    .dataframe tbody tr th:only-of-type {\n",
       "        vertical-align: middle;\n",
       "    }\n",
       "\n",
       "    .dataframe tbody tr th {\n",
       "        vertical-align: top;\n",
       "    }\n",
       "\n",
       "    .dataframe thead th {\n",
       "        text-align: right;\n",
       "    }\n",
       "</style>\n",
       "<table border=\"1\" class=\"dataframe\">\n",
       "  <thead>\n",
       "    <tr style=\"text-align: right;\">\n",
       "      <th></th>\n",
       "      <th>Unnamed: 0</th>\n",
       "      <th>TV</th>\n",
       "      <th>radio</th>\n",
       "      <th>newspaper</th>\n",
       "      <th>sales</th>\n",
       "    </tr>\n",
       "  </thead>\n",
       "  <tbody>\n",
       "    <tr>\n",
       "      <th>0</th>\n",
       "      <td>1</td>\n",
       "      <td>230.1</td>\n",
       "      <td>37.8</td>\n",
       "      <td>69.2</td>\n",
       "      <td>22.1</td>\n",
       "    </tr>\n",
       "    <tr>\n",
       "      <th>1</th>\n",
       "      <td>2</td>\n",
       "      <td>44.5</td>\n",
       "      <td>39.3</td>\n",
       "      <td>45.1</td>\n",
       "      <td>10.4</td>\n",
       "    </tr>\n",
       "    <tr>\n",
       "      <th>2</th>\n",
       "      <td>3</td>\n",
       "      <td>17.2</td>\n",
       "      <td>45.9</td>\n",
       "      <td>69.3</td>\n",
       "      <td>9.3</td>\n",
       "    </tr>\n",
       "    <tr>\n",
       "      <th>3</th>\n",
       "      <td>4</td>\n",
       "      <td>151.5</td>\n",
       "      <td>41.3</td>\n",
       "      <td>58.5</td>\n",
       "      <td>18.5</td>\n",
       "    </tr>\n",
       "    <tr>\n",
       "      <th>4</th>\n",
       "      <td>5</td>\n",
       "      <td>180.8</td>\n",
       "      <td>10.8</td>\n",
       "      <td>58.4</td>\n",
       "      <td>12.9</td>\n",
       "    </tr>\n",
       "    <tr>\n",
       "      <th>...</th>\n",
       "      <td>...</td>\n",
       "      <td>...</td>\n",
       "      <td>...</td>\n",
       "      <td>...</td>\n",
       "      <td>...</td>\n",
       "    </tr>\n",
       "    <tr>\n",
       "      <th>195</th>\n",
       "      <td>196</td>\n",
       "      <td>38.2</td>\n",
       "      <td>3.7</td>\n",
       "      <td>13.8</td>\n",
       "      <td>7.6</td>\n",
       "    </tr>\n",
       "    <tr>\n",
       "      <th>196</th>\n",
       "      <td>197</td>\n",
       "      <td>94.2</td>\n",
       "      <td>4.9</td>\n",
       "      <td>8.1</td>\n",
       "      <td>9.7</td>\n",
       "    </tr>\n",
       "    <tr>\n",
       "      <th>197</th>\n",
       "      <td>198</td>\n",
       "      <td>177.0</td>\n",
       "      <td>9.3</td>\n",
       "      <td>6.4</td>\n",
       "      <td>12.8</td>\n",
       "    </tr>\n",
       "    <tr>\n",
       "      <th>198</th>\n",
       "      <td>199</td>\n",
       "      <td>283.6</td>\n",
       "      <td>42.0</td>\n",
       "      <td>66.2</td>\n",
       "      <td>25.5</td>\n",
       "    </tr>\n",
       "    <tr>\n",
       "      <th>199</th>\n",
       "      <td>200</td>\n",
       "      <td>232.1</td>\n",
       "      <td>8.6</td>\n",
       "      <td>8.7</td>\n",
       "      <td>13.4</td>\n",
       "    </tr>\n",
       "  </tbody>\n",
       "</table>\n",
       "<p>200 rows × 5 columns</p>\n",
       "</div>"
      ],
      "text/plain": [
       "     Unnamed: 0     TV  radio  newspaper  sales\n",
       "0             1  230.1   37.8       69.2   22.1\n",
       "1             2   44.5   39.3       45.1   10.4\n",
       "2             3   17.2   45.9       69.3    9.3\n",
       "3             4  151.5   41.3       58.5   18.5\n",
       "4             5  180.8   10.8       58.4   12.9\n",
       "..          ...    ...    ...        ...    ...\n",
       "195         196   38.2    3.7       13.8    7.6\n",
       "196         197   94.2    4.9        8.1    9.7\n",
       "197         198  177.0    9.3        6.4   12.8\n",
       "198         199  283.6   42.0       66.2   25.5\n",
       "199         200  232.1    8.6        8.7   13.4\n",
       "\n",
       "[200 rows x 5 columns]"
      ]
     },
     "execution_count": 2,
     "metadata": {},
     "output_type": "execute_result"
    }
   ],
   "source": [
    "dff=pd.read_csv('Advertising.csv')\n",
    "dff"
   ]
  },
  {
   "cell_type": "code",
   "execution_count": 3,
   "metadata": {},
   "outputs": [
    {
     "data": {
      "text/html": [
       "<div>\n",
       "<style scoped>\n",
       "    .dataframe tbody tr th:only-of-type {\n",
       "        vertical-align: middle;\n",
       "    }\n",
       "\n",
       "    .dataframe tbody tr th {\n",
       "        vertical-align: top;\n",
       "    }\n",
       "\n",
       "    .dataframe thead th {\n",
       "        text-align: right;\n",
       "    }\n",
       "</style>\n",
       "<table border=\"1\" class=\"dataframe\">\n",
       "  <thead>\n",
       "    <tr style=\"text-align: right;\">\n",
       "      <th></th>\n",
       "      <th>TV</th>\n",
       "      <th>radio</th>\n",
       "      <th>newspaper</th>\n",
       "      <th>sales</th>\n",
       "    </tr>\n",
       "  </thead>\n",
       "  <tbody>\n",
       "    <tr>\n",
       "      <th>1</th>\n",
       "      <td>230.1</td>\n",
       "      <td>37.8</td>\n",
       "      <td>69.2</td>\n",
       "      <td>22.1</td>\n",
       "    </tr>\n",
       "    <tr>\n",
       "      <th>2</th>\n",
       "      <td>44.5</td>\n",
       "      <td>39.3</td>\n",
       "      <td>45.1</td>\n",
       "      <td>10.4</td>\n",
       "    </tr>\n",
       "    <tr>\n",
       "      <th>3</th>\n",
       "      <td>17.2</td>\n",
       "      <td>45.9</td>\n",
       "      <td>69.3</td>\n",
       "      <td>9.3</td>\n",
       "    </tr>\n",
       "    <tr>\n",
       "      <th>4</th>\n",
       "      <td>151.5</td>\n",
       "      <td>41.3</td>\n",
       "      <td>58.5</td>\n",
       "      <td>18.5</td>\n",
       "    </tr>\n",
       "    <tr>\n",
       "      <th>5</th>\n",
       "      <td>180.8</td>\n",
       "      <td>10.8</td>\n",
       "      <td>58.4</td>\n",
       "      <td>12.9</td>\n",
       "    </tr>\n",
       "    <tr>\n",
       "      <th>...</th>\n",
       "      <td>...</td>\n",
       "      <td>...</td>\n",
       "      <td>...</td>\n",
       "      <td>...</td>\n",
       "    </tr>\n",
       "    <tr>\n",
       "      <th>196</th>\n",
       "      <td>38.2</td>\n",
       "      <td>3.7</td>\n",
       "      <td>13.8</td>\n",
       "      <td>7.6</td>\n",
       "    </tr>\n",
       "    <tr>\n",
       "      <th>197</th>\n",
       "      <td>94.2</td>\n",
       "      <td>4.9</td>\n",
       "      <td>8.1</td>\n",
       "      <td>9.7</td>\n",
       "    </tr>\n",
       "    <tr>\n",
       "      <th>198</th>\n",
       "      <td>177.0</td>\n",
       "      <td>9.3</td>\n",
       "      <td>6.4</td>\n",
       "      <td>12.8</td>\n",
       "    </tr>\n",
       "    <tr>\n",
       "      <th>199</th>\n",
       "      <td>283.6</td>\n",
       "      <td>42.0</td>\n",
       "      <td>66.2</td>\n",
       "      <td>25.5</td>\n",
       "    </tr>\n",
       "    <tr>\n",
       "      <th>200</th>\n",
       "      <td>232.1</td>\n",
       "      <td>8.6</td>\n",
       "      <td>8.7</td>\n",
       "      <td>13.4</td>\n",
       "    </tr>\n",
       "  </tbody>\n",
       "</table>\n",
       "<p>200 rows × 4 columns</p>\n",
       "</div>"
      ],
      "text/plain": [
       "        TV  radio  newspaper  sales\n",
       "1    230.1   37.8       69.2   22.1\n",
       "2     44.5   39.3       45.1   10.4\n",
       "3     17.2   45.9       69.3    9.3\n",
       "4    151.5   41.3       58.5   18.5\n",
       "5    180.8   10.8       58.4   12.9\n",
       "..     ...    ...        ...    ...\n",
       "196   38.2    3.7       13.8    7.6\n",
       "197   94.2    4.9        8.1    9.7\n",
       "198  177.0    9.3        6.4   12.8\n",
       "199  283.6   42.0       66.2   25.5\n",
       "200  232.1    8.6        8.7   13.4\n",
       "\n",
       "[200 rows x 4 columns]"
      ]
     },
     "execution_count": 3,
     "metadata": {},
     "output_type": "execute_result"
    }
   ],
   "source": [
    "df= pd.read_csv('Advertising.csv', index_col=0)\n",
    "df"
   ]
  },
  {
   "cell_type": "code",
   "execution_count": 4,
   "metadata": {},
   "outputs": [
    {
     "data": {
      "text/plain": [
       "Index(['TV', 'radio', 'newspaper', 'sales'], dtype='object')"
      ]
     },
     "execution_count": 4,
     "metadata": {},
     "output_type": "execute_result"
    }
   ],
   "source": [
    "df.columns"
   ]
  },
  {
   "cell_type": "code",
   "execution_count": 5,
   "metadata": {},
   "outputs": [
    {
     "data": {
      "text/html": [
       "<div>\n",
       "<style scoped>\n",
       "    .dataframe tbody tr th:only-of-type {\n",
       "        vertical-align: middle;\n",
       "    }\n",
       "\n",
       "    .dataframe tbody tr th {\n",
       "        vertical-align: top;\n",
       "    }\n",
       "\n",
       "    .dataframe thead th {\n",
       "        text-align: right;\n",
       "    }\n",
       "</style>\n",
       "<table border=\"1\" class=\"dataframe\">\n",
       "  <thead>\n",
       "    <tr style=\"text-align: right;\">\n",
       "      <th></th>\n",
       "      <th>TV</th>\n",
       "      <th>radio</th>\n",
       "      <th>newspaper</th>\n",
       "      <th>sales</th>\n",
       "    </tr>\n",
       "  </thead>\n",
       "  <tbody>\n",
       "    <tr>\n",
       "      <th>196</th>\n",
       "      <td>38.2</td>\n",
       "      <td>3.7</td>\n",
       "      <td>13.8</td>\n",
       "      <td>7.6</td>\n",
       "    </tr>\n",
       "    <tr>\n",
       "      <th>197</th>\n",
       "      <td>94.2</td>\n",
       "      <td>4.9</td>\n",
       "      <td>8.1</td>\n",
       "      <td>9.7</td>\n",
       "    </tr>\n",
       "    <tr>\n",
       "      <th>198</th>\n",
       "      <td>177.0</td>\n",
       "      <td>9.3</td>\n",
       "      <td>6.4</td>\n",
       "      <td>12.8</td>\n",
       "    </tr>\n",
       "    <tr>\n",
       "      <th>199</th>\n",
       "      <td>283.6</td>\n",
       "      <td>42.0</td>\n",
       "      <td>66.2</td>\n",
       "      <td>25.5</td>\n",
       "    </tr>\n",
       "    <tr>\n",
       "      <th>200</th>\n",
       "      <td>232.1</td>\n",
       "      <td>8.6</td>\n",
       "      <td>8.7</td>\n",
       "      <td>13.4</td>\n",
       "    </tr>\n",
       "  </tbody>\n",
       "</table>\n",
       "</div>"
      ],
      "text/plain": [
       "        TV  radio  newspaper  sales\n",
       "196   38.2    3.7       13.8    7.6\n",
       "197   94.2    4.9        8.1    9.7\n",
       "198  177.0    9.3        6.4   12.8\n",
       "199  283.6   42.0       66.2   25.5\n",
       "200  232.1    8.6        8.7   13.4"
      ]
     },
     "execution_count": 5,
     "metadata": {},
     "output_type": "execute_result"
    }
   ],
   "source": [
    "df.tail()"
   ]
  },
  {
   "cell_type": "code",
   "execution_count": 6,
   "metadata": {},
   "outputs": [
    {
     "data": {
      "text/html": [
       "<div>\n",
       "<style scoped>\n",
       "    .dataframe tbody tr th:only-of-type {\n",
       "        vertical-align: middle;\n",
       "    }\n",
       "\n",
       "    .dataframe tbody tr th {\n",
       "        vertical-align: top;\n",
       "    }\n",
       "\n",
       "    .dataframe thead th {\n",
       "        text-align: right;\n",
       "    }\n",
       "</style>\n",
       "<table border=\"1\" class=\"dataframe\">\n",
       "  <thead>\n",
       "    <tr style=\"text-align: right;\">\n",
       "      <th></th>\n",
       "      <th>TV</th>\n",
       "      <th>radio</th>\n",
       "      <th>newspaper</th>\n",
       "      <th>sales</th>\n",
       "    </tr>\n",
       "  </thead>\n",
       "  <tbody>\n",
       "    <tr>\n",
       "      <th>22</th>\n",
       "      <td>237.4</td>\n",
       "      <td>5.1</td>\n",
       "      <td>23.5</td>\n",
       "      <td>12.5</td>\n",
       "    </tr>\n",
       "    <tr>\n",
       "      <th>10</th>\n",
       "      <td>199.8</td>\n",
       "      <td>2.6</td>\n",
       "      <td>21.2</td>\n",
       "      <td>10.6</td>\n",
       "    </tr>\n",
       "    <tr>\n",
       "      <th>13</th>\n",
       "      <td>23.8</td>\n",
       "      <td>35.1</td>\n",
       "      <td>65.9</td>\n",
       "      <td>9.2</td>\n",
       "    </tr>\n",
       "    <tr>\n",
       "      <th>191</th>\n",
       "      <td>39.5</td>\n",
       "      <td>41.1</td>\n",
       "      <td>5.8</td>\n",
       "      <td>10.8</td>\n",
       "    </tr>\n",
       "  </tbody>\n",
       "</table>\n",
       "</div>"
      ],
      "text/plain": [
       "        TV  radio  newspaper  sales\n",
       "22   237.4    5.1       23.5   12.5\n",
       "10   199.8    2.6       21.2   10.6\n",
       "13    23.8   35.1       65.9    9.2\n",
       "191   39.5   41.1        5.8   10.8"
      ]
     },
     "execution_count": 6,
     "metadata": {},
     "output_type": "execute_result"
    }
   ],
   "source": [
    "df.sample(4)"
   ]
  },
  {
   "cell_type": "markdown",
   "metadata": {},
   "source": [
    "## Now Lets check the Null Values"
   ]
  },
  {
   "cell_type": "code",
   "execution_count": 7,
   "metadata": {},
   "outputs": [
    {
     "data": {
      "text/plain": [
       "TV           0\n",
       "radio        0\n",
       "newspaper    0\n",
       "sales        0\n",
       "dtype: int64"
      ]
     },
     "execution_count": 7,
     "metadata": {},
     "output_type": "execute_result"
    }
   ],
   "source": [
    "df.isnull().sum()"
   ]
  },
  {
   "cell_type": "code",
   "execution_count": 8,
   "metadata": {},
   "outputs": [
    {
     "data": {
      "text/plain": [
       "(200, 4)"
      ]
     },
     "execution_count": 8,
     "metadata": {},
     "output_type": "execute_result"
    }
   ],
   "source": [
    "df.shape"
   ]
  },
  {
   "cell_type": "markdown",
   "metadata": {},
   "source": [
    "# Checking Data types of the columns"
   ]
  },
  {
   "cell_type": "code",
   "execution_count": 9,
   "metadata": {},
   "outputs": [
    {
     "data": {
      "text/plain": [
       "TV           float64\n",
       "radio        float64\n",
       "newspaper    float64\n",
       "sales        float64\n",
       "dtype: object"
      ]
     },
     "execution_count": 9,
     "metadata": {},
     "output_type": "execute_result"
    }
   ],
   "source": [
    "df.dtypes"
   ]
  },
  {
   "cell_type": "markdown",
   "metadata": {},
   "source": [
    "**All the data are in float64 and it is a regression Problem**"
   ]
  },
  {
   "cell_type": "code",
   "execution_count": 10,
   "metadata": {},
   "outputs": [
    {
     "name": "stdout",
     "output_type": "stream",
     "text": [
      "<class 'pandas.core.frame.DataFrame'>\n",
      "Int64Index: 200 entries, 1 to 200\n",
      "Data columns (total 4 columns):\n",
      " #   Column     Non-Null Count  Dtype  \n",
      "---  ------     --------------  -----  \n",
      " 0   TV         200 non-null    float64\n",
      " 1   radio      200 non-null    float64\n",
      " 2   newspaper  200 non-null    float64\n",
      " 3   sales      200 non-null    float64\n",
      "dtypes: float64(4)\n",
      "memory usage: 7.8 KB\n"
     ]
    }
   ],
   "source": [
    "df.info()"
   ]
  },
  {
   "cell_type": "markdown",
   "metadata": {},
   "source": [
    "# -------------------------------------------------------------------------------------------------"
   ]
  },
  {
   "cell_type": "markdown",
   "metadata": {},
   "source": [
    "# EDA"
   ]
  },
  {
   "cell_type": "markdown",
   "metadata": {},
   "source": [
    "<h2 style='text-align:center;font-size:30px;background-color:CRIMSON;border:20px;color:white'>A. Univariate Analysis <h2>"
   ]
  },
  {
   "cell_type": "code",
   "execution_count": 11,
   "metadata": {},
   "outputs": [
    {
     "data": {
      "text/plain": [
       "<AxesSubplot:xlabel='newspaper'>"
      ]
     },
     "execution_count": 11,
     "metadata": {},
     "output_type": "execute_result"
    },
    {
     "data": {
      "image/png": "[encoded data removed]",
      "text/plain": [
       "<Figure size 432x288 with 1 Axes>"
      ]
     },
     "metadata": {
      "needs_background": "light"
     },
     "output_type": "display_data"
    }
   ],
   "source": [
    "sns.boxplot(df['newspaper'])"
   ]
  },
  {
   "cell_type": "markdown",
   "metadata": {},
   "source": [
    "**We can see that bit of Outliers is present in Newspaper**"
   ]
  },
  {
   "cell_type": "code",
   "execution_count": 12,
   "metadata": {
    "scrolled": true
   },
   "outputs": [
    {
     "data": {
      "text/plain": [
       "<AxesSubplot:xlabel='TV'>"
      ]
     },
     "execution_count": 12,
     "metadata": {},
     "output_type": "execute_result"
    },
    {
     "data": {
      "image/png": "[encoded data removed]",
      "text/plain": [
       "<Figure size 432x288 with 1 Axes>"
      ]
     },
     "metadata": {
      "needs_background": "light"
     },
     "output_type": "display_data"
    }
   ],
   "source": [
    "sns.boxplot(df['TV'])"
   ]
  },
  {
   "cell_type": "markdown",
   "metadata": {},
   "source": [
    "**No Outliers is present in TV**"
   ]
  },
  {
   "cell_type": "code",
   "execution_count": 13,
   "metadata": {
    "scrolled": false
   },
   "outputs": [
    {
     "data": {
      "text/plain": [
       "<AxesSubplot:xlabel='radio'>"
      ]
     },
     "execution_count": 13,
     "metadata": {},
     "output_type": "execute_result"
    },
    {
     "data": {
      "image/png": "[encoded data removed]",
      "text/plain": [
       "<Figure size 432x288 with 1 Axes>"
      ]
     },
     "metadata": {
      "needs_background": "light"
     },
     "output_type": "display_data"
    }
   ],
   "source": [
    "sns.boxplot(df['radio'])"
   ]
  },
  {
   "cell_type": "markdown",
   "metadata": {},
   "source": [
    "**We cannot find any Outliers in Radio too**"
   ]
  },
  {
   "cell_type": "code",
   "execution_count": 14,
   "metadata": {
    "scrolled": false
   },
   "outputs": [
    {
     "data": {
      "text/plain": [
       "<AxesSubplot:xlabel='sales'>"
      ]
     },
     "execution_count": 14,
     "metadata": {},
     "output_type": "execute_result"
    },
    {
     "data": {
      "image/png": "[encoded data removed]",
      "text/plain": [
       "<Figure size 432x288 with 1 Axes>"
      ]
     },
     "metadata": {
      "needs_background": "light"
     },
     "output_type": "display_data"
    }
   ],
   "source": [
    "sns.boxplot(df['sales'])"
   ]
  },
  {
   "cell_type": "markdown",
   "metadata": {},
   "source": [
    "**We cannot find any Outliers in Sales**"
   ]
  },
  {
   "cell_type": "code",
   "execution_count": 15,
   "metadata": {
    "scrolled": true
   },
   "outputs": [
    {
     "data": {
      "text/plain": [
       "<seaborn.axisgrid.PairGrid at 0x23eceb89eb0>"
      ]
     },
     "execution_count": 15,
     "metadata": {},
     "output_type": "execute_result"
    },
    {
     "data": {
      "image/png": "[encoded data removed]",
      "text/plain": [
       "<Figure size 720x720 with 20 Axes>"
      ]
     },
     "metadata": {
      "needs_background": "light"
     },
     "output_type": "display_data"
    }
   ],
   "source": [
    "sns.pairplot(df)\n"
   ]
  },
  {
   "cell_type": "markdown",
   "metadata": {},
   "source": [
    "**1. We can see in as per sales ,TV is Having a positive relationship**\n",
    "\n",
    "**2. Well radio is also having a positive relationship as per sales but Not as strong as TV**\n",
    "\n",
    "**3. Newspaper has the most scattered relationship as per sales**"
   ]
  },
  {
   "cell_type": "markdown",
   "metadata": {},
   "source": [
    "<h2 style='text-align:center;font-size:30px;background-color:CRIMSON;border:20px;color:white'>B. Bivariate Analysis <h2>"
   ]
  },
  {
   "cell_type": "code",
   "execution_count": 16,
   "metadata": {},
   "outputs": [
    {
     "data": {
      "text/plain": [
       "<AxesSubplot:xlabel='TV', ylabel='sales'>"
      ]
     },
     "execution_count": 16,
     "metadata": {},
     "output_type": "execute_result"
    },
    {
     "data": {
      "image/png": "[encoded data removed]",
      "text/plain": [
       "<Figure size 432x288 with 1 Axes>"
      ]
     },
     "metadata": {
      "needs_background": "light"
     },
     "output_type": "display_data"
    }
   ],
   "source": [
    "sns.scatterplot(df['TV'],df['sales'])"
   ]
  },
  {
   "cell_type": "markdown",
   "metadata": {},
   "source": [
    "**We can see that the sales of TV tend to increase Positively**"
   ]
  },
  {
   "cell_type": "code",
   "execution_count": 17,
   "metadata": {},
   "outputs": [
    {
     "data": {
      "text/plain": [
       "<AxesSubplot:xlabel='radio', ylabel='sales'>"
      ]
     },
     "execution_count": 17,
     "metadata": {},
     "output_type": "execute_result"
    },
    {
     "data": {
      "image/png": "[encoded data removed]",
      "text/plain": [
       "<Figure size 432x288 with 1 Axes>"
      ]
     },
     "metadata": {
      "needs_background": "light"
     },
     "output_type": "display_data"
    }
   ],
   "source": [
    "sns.scatterplot(df['radio'],df['sales'])"
   ]
  },
  {
   "cell_type": "markdown",
   "metadata": {},
   "source": [
    "**Well radio is also having a positive relationship as per sales but Not as strong as TV bcz it tend to decrease at some places**"
   ]
  },
  {
   "cell_type": "code",
   "execution_count": 18,
   "metadata": {},
   "outputs": [
    {
     "data": {
      "text/plain": [
       "<AxesSubplot:xlabel='newspaper', ylabel='sales'>"
      ]
     },
     "execution_count": 18,
     "metadata": {},
     "output_type": "execute_result"
    },
    {
     "data": {
      "image/png": "[encoded data removed]",
      "text/plain": [
       "<Figure size 432x288 with 1 Axes>"
      ]
     },
     "metadata": {
      "needs_background": "light"
     },
     "output_type": "display_data"
    }
   ],
   "source": [
    "sns.scatterplot(df['newspaper'],df['sales'])"
   ]
  },
  {
   "cell_type": "markdown",
   "metadata": {},
   "source": [
    "**Newspaper has the most scattered relationship as per sales and it is in between 0 to 80**"
   ]
  },
  {
   "cell_type": "code",
   "execution_count": 19,
   "metadata": {},
   "outputs": [
    {
     "data": {
      "image/png": "[encoded data removed]",
      "text/plain": [
       "<Figure size 1440x1440 with 4 Axes>"
      ]
     },
     "metadata": {
      "needs_background": "light"
     },
     "output_type": "display_data"
    }
   ],
   "source": [
    "df.hist(bins=10, figsize=(20,20))\n",
    "plt.show()"
   ]
  },
  {
   "cell_type": "markdown",
   "metadata": {},
   "source": [
    "**The Dataset is not Normalized so lets Normalize It and remove skewness**"
   ]
  },
  {
   "cell_type": "markdown",
   "metadata": {},
   "source": [
    "<h2 style='text-align:center;font-size:30px;background-color:CRIMSON;border:20px;color:white'> CORRELATION <h2>"
   ]
  },
  {
   "cell_type": "code",
   "execution_count": 20,
   "metadata": {},
   "outputs": [
    {
     "data": {
      "text/html": [
       "<div>\n",
       "<style scoped>\n",
       "    .dataframe tbody tr th:only-of-type {\n",
       "        vertical-align: middle;\n",
       "    }\n",
       "\n",
       "    .dataframe tbody tr th {\n",
       "        vertical-align: top;\n",
       "    }\n",
       "\n",
       "    .dataframe thead th {\n",
       "        text-align: right;\n",
       "    }\n",
       "</style>\n",
       "<table border=\"1\" class=\"dataframe\">\n",
       "  <thead>\n",
       "    <tr style=\"text-align: right;\">\n",
       "      <th></th>\n",
       "      <th>TV</th>\n",
       "      <th>radio</th>\n",
       "      <th>newspaper</th>\n",
       "      <th>sales</th>\n",
       "    </tr>\n",
       "  </thead>\n",
       "  <tbody>\n",
       "    <tr>\n",
       "      <th>TV</th>\n",
       "      <td>1.000000</td>\n",
       "      <td>0.054809</td>\n",
       "      <td>0.056648</td>\n",
       "      <td>0.782224</td>\n",
       "    </tr>\n",
       "    <tr>\n",
       "      <th>radio</th>\n",
       "      <td>0.054809</td>\n",
       "      <td>1.000000</td>\n",
       "      <td>0.354104</td>\n",
       "      <td>0.576223</td>\n",
       "    </tr>\n",
       "    <tr>\n",
       "      <th>newspaper</th>\n",
       "      <td>0.056648</td>\n",
       "      <td>0.354104</td>\n",
       "      <td>1.000000</td>\n",
       "      <td>0.228299</td>\n",
       "    </tr>\n",
       "    <tr>\n",
       "      <th>sales</th>\n",
       "      <td>0.782224</td>\n",
       "      <td>0.576223</td>\n",
       "      <td>0.228299</td>\n",
       "      <td>1.000000</td>\n",
       "    </tr>\n",
       "  </tbody>\n",
       "</table>\n",
       "</div>"
      ],
      "text/plain": [
       "                 TV     radio  newspaper     sales\n",
       "TV         1.000000  0.054809   0.056648  0.782224\n",
       "radio      0.054809  1.000000   0.354104  0.576223\n",
       "newspaper  0.056648  0.354104   1.000000  0.228299\n",
       "sales      0.782224  0.576223   0.228299  1.000000"
      ]
     },
     "execution_count": 20,
     "metadata": {},
     "output_type": "execute_result"
    }
   ],
   "source": [
    "df.corr()"
   ]
  },
  {
   "cell_type": "code",
   "execution_count": 21,
   "metadata": {},
   "outputs": [
    {
     "data": {
      "text/plain": [
       "newspaper    0.228299\n",
       "radio        0.576223\n",
       "TV           0.782224\n",
       "sales        1.000000\n",
       "Name: sales, dtype: float64"
      ]
     },
     "execution_count": 21,
     "metadata": {},
     "output_type": "execute_result"
    }
   ],
   "source": [
    "df.corr()['sales'].sort_values()"
   ]
  },
  {
   "cell_type": "markdown",
   "metadata": {},
   "source": [
    "**Here TV is the most Correlated to sales and Newspaper is the least Correlated to Sales.. and dont find here any Multicollinearity Bcz all the data coloumns are seprately correlated to sales**"
   ]
  },
  {
   "cell_type": "code",
   "execution_count": 22,
   "metadata": {},
   "outputs": [
    {
     "data": {
      "text/plain": [
       "<AxesSubplot:>"
      ]
     },
     "execution_count": 22,
     "metadata": {},
     "output_type": "execute_result"
    },
    {
     "data": {
      "image/png": "[encoded data removed]",
      "text/plain": [
       "<Figure size 1080x720 with 2 Axes>"
      ]
     },
     "metadata": {
      "needs_background": "light"
     },
     "output_type": "display_data"
    }
   ],
   "source": [
    "plt.figure(figsize=(15,10))\n",
    "sns.heatmap(df.corr(),annot=True,linewidths=0.5,linecolor='black',fmt='.2f')"
   ]
  },
  {
   "cell_type": "markdown",
   "metadata": {},
   "source": [
    "<h2 style='text-align:center;font-size:15px;background-color:CRIMSON;border:20px;color:white'> % of input variable correlated to target variable <h2>\n",
    "\n",
    "**newspaper    0.23%**\n",
    "\n",
    "**radio        0.58%**\n",
    "\n",
    "**TV           0.78%**"
   ]
  },
  {
   "cell_type": "markdown",
   "metadata": {},
   "source": [
    "------------------------------------------------------------------------------"
   ]
  },
  {
   "cell_type": "code",
   "execution_count": 23,
   "metadata": {},
   "outputs": [
    {
     "data": {
      "image/png": "[encoded data removed]",
      "text/plain": [
       "<Figure size 1224x504 with 1 Axes>"
      ]
     },
     "metadata": {
      "needs_background": "light"
     },
     "output_type": "display_data"
    }
   ],
   "source": [
    "#checking the columns which are positively and negatively correlated\n",
    "\n",
    "plt.figure(figsize=(17,7))\n",
    "df.corr()['sales'].sort_values(ascending=False).drop(['sales']).plot(kind='bar',color='c')\n",
    "plt.xlabel('Features',fontsize=14)\n",
    "plt.ylabel('columns with target names',fontsize=14)\n",
    "plt.title('CORRELATION',fontsize=18)\n",
    "plt.show()"
   ]
  },
  {
   "cell_type": "markdown",
   "metadata": {},
   "source": [
    "**Its clearly visible that here their is no case of Multicollinearity**"
   ]
  },
  {
   "cell_type": "markdown",
   "metadata": {},
   "source": [
    "<h2 style='text-align:center;font-size:30px;background-color:CRIMSON;border:20px;color:white'>Descriptive Statistics<h2>\n"
   ]
  },
  {
   "cell_type": "code",
   "execution_count": 24,
   "metadata": {},
   "outputs": [
    {
     "data": {
      "text/html": [
       "<div>\n",
       "<style scoped>\n",
       "    .dataframe tbody tr th:only-of-type {\n",
       "        vertical-align: middle;\n",
       "    }\n",
       "\n",
       "    .dataframe tbody tr th {\n",
       "        vertical-align: top;\n",
       "    }\n",
       "\n",
       "    .dataframe thead th {\n",
       "        text-align: right;\n",
       "    }\n",
       "</style>\n",
       "<table border=\"1\" class=\"dataframe\">\n",
       "  <thead>\n",
       "    <tr style=\"text-align: right;\">\n",
       "      <th></th>\n",
       "      <th>TV</th>\n",
       "      <th>radio</th>\n",
       "      <th>newspaper</th>\n",
       "      <th>sales</th>\n",
       "    </tr>\n",
       "  </thead>\n",
       "  <tbody>\n",
       "    <tr>\n",
       "      <th>count</th>\n",
       "      <td>200.000000</td>\n",
       "      <td>200.000000</td>\n",
       "      <td>200.000000</td>\n",
       "      <td>200.000000</td>\n",
       "    </tr>\n",
       "    <tr>\n",
       "      <th>mean</th>\n",
       "      <td>147.042500</td>\n",
       "      <td>23.264000</td>\n",
       "      <td>30.554000</td>\n",
       "      <td>14.022500</td>\n",
       "    </tr>\n",
       "    <tr>\n",
       "      <th>std</th>\n",
       "      <td>85.854236</td>\n",
       "      <td>14.846809</td>\n",
       "      <td>21.778621</td>\n",
       "      <td>5.217457</td>\n",
       "    </tr>\n",
       "    <tr>\n",
       "      <th>min</th>\n",
       "      <td>0.700000</td>\n",
       "      <td>0.000000</td>\n",
       "      <td>0.300000</td>\n",
       "      <td>1.600000</td>\n",
       "    </tr>\n",
       "    <tr>\n",
       "      <th>25%</th>\n",
       "      <td>74.375000</td>\n",
       "      <td>9.975000</td>\n",
       "      <td>12.750000</td>\n",
       "      <td>10.375000</td>\n",
       "    </tr>\n",
       "    <tr>\n",
       "      <th>50%</th>\n",
       "      <td>149.750000</td>\n",
       "      <td>22.900000</td>\n",
       "      <td>25.750000</td>\n",
       "      <td>12.900000</td>\n",
       "    </tr>\n",
       "    <tr>\n",
       "      <th>75%</th>\n",
       "      <td>218.825000</td>\n",
       "      <td>36.525000</td>\n",
       "      <td>45.100000</td>\n",
       "      <td>17.400000</td>\n",
       "    </tr>\n",
       "    <tr>\n",
       "      <th>max</th>\n",
       "      <td>296.400000</td>\n",
       "      <td>49.600000</td>\n",
       "      <td>114.000000</td>\n",
       "      <td>27.000000</td>\n",
       "    </tr>\n",
       "  </tbody>\n",
       "</table>\n",
       "</div>"
      ],
      "text/plain": [
       "               TV       radio   newspaper       sales\n",
       "count  200.000000  200.000000  200.000000  200.000000\n",
       "mean   147.042500   23.264000   30.554000   14.022500\n",
       "std     85.854236   14.846809   21.778621    5.217457\n",
       "min      0.700000    0.000000    0.300000    1.600000\n",
       "25%     74.375000    9.975000   12.750000   10.375000\n",
       "50%    149.750000   22.900000   25.750000   12.900000\n",
       "75%    218.825000   36.525000   45.100000   17.400000\n",
       "max    296.400000   49.600000  114.000000   27.000000"
      ]
     },
     "execution_count": 24,
     "metadata": {},
     "output_type": "execute_result"
    }
   ],
   "source": [
    "df.describe()"
   ]
  },
  {
   "cell_type": "code",
   "execution_count": 25,
   "metadata": {},
   "outputs": [
    {
     "data": {
      "text/plain": [
       "<AxesSubplot:>"
      ]
     },
     "execution_count": 25,
     "metadata": {},
     "output_type": "execute_result"
    },
    {
     "data": {
      "image/png": "[encoded data removed]",
      "text/plain": [
       "<Figure size 1584x504 with 2 Axes>"
      ]
     },
     "metadata": {
      "needs_background": "light"
     },
     "output_type": "display_data"
    }
   ],
   "source": [
    "plt.figure(figsize=(22,7))\n",
    "sns.heatmap(df.describe(),annot=True,linewidths=0.2,linecolor=\"blue\",fmt=\"0.2f\")"
   ]
  },
  {
   "cell_type": "markdown",
   "metadata": {},
   "source": [
    "#### Outcome of describe() of dataset :-\n",
    "\n",
    "**from the above plotting we are determining mean,standard deviation,minimum and maximum value of each column**\n",
    "\n",
    "**Total number rows and column in dataset:-**\n",
    "\n",
    "**Rows :- 200**\n",
    "\n",
    "**columns :- 4**\n",
    "\n"
   ]
  },
  {
   "cell_type": "markdown",
   "metadata": {},
   "source": [
    "**TV**\n",
    "\n",
    "\n",
    "Mean    :- 147.04\n",
    "\n",
    "std     :- 85.85\n",
    "\n",
    "minimum :- 0.70\n",
    "\n",
    "Maximum :- 296.40\n",
    "    \n",
    "**Radio**\n",
    "\n",
    "\n",
    "Mean    :- 23.26\n",
    "\n",
    "std     :- 14.85\n",
    "\n",
    "minimum :- 0.00\n",
    "\n",
    "Maximum :- 49.60\n",
    "    \n",
    "\n",
    "**Newspaper**\n",
    "\n",
    "Mean    :- 30.55\n",
    "\n",
    "std     :- 21.78\n",
    "\n",
    "minimum :- 0.30\n",
    "\n",
    "Maximum :- 114.00\n",
    "    \n",
    "    \n",
    "**Sales**\n",
    "\n",
    "Mean    :- 14.02\n",
    "\n",
    "std     :- 5.22\n",
    "\n",
    "minimum :- 1.06\n",
    "\n",
    "Maximum :- 27.00"
   ]
  },
  {
   "cell_type": "code",
   "execution_count": 26,
   "metadata": {},
   "outputs": [
    {
     "name": "stdout",
     "output_type": "stream",
     "text": [
      "<class 'pandas.core.frame.DataFrame'>\n",
      "Int64Index: 200 entries, 1 to 200\n",
      "Data columns (total 4 columns):\n",
      " #   Column     Non-Null Count  Dtype  \n",
      "---  ------     --------------  -----  \n",
      " 0   TV         200 non-null    float64\n",
      " 1   radio      200 non-null    float64\n",
      " 2   newspaper  200 non-null    float64\n",
      " 3   sales      200 non-null    float64\n",
      "dtypes: float64(4)\n",
      "memory usage: 7.8 KB\n"
     ]
    }
   ],
   "source": [
    "df.info()"
   ]
  },
  {
   "cell_type": "markdown",
   "metadata": {},
   "source": [
    "**All Columns have Non Null values and dtypes of columns are all float64**"
   ]
  },
  {
   "cell_type": "markdown",
   "metadata": {},
   "source": [
    "# Now Lets Check Outliers 1st"
   ]
  },
  {
   "cell_type": "code",
   "execution_count": 27,
   "metadata": {},
   "outputs": [
    {
     "data": {
      "text/plain": [
       "TV              AxesSubplot(0.125,0.749828;0.133621x0.130172)\n",
       "radio        AxesSubplot(0.285345,0.749828;0.133621x0.130172)\n",
       "newspaper     AxesSubplot(0.44569,0.749828;0.133621x0.130172)\n",
       "sales        AxesSubplot(0.606034,0.749828;0.133621x0.130172)\n",
       "dtype: object"
      ]
     },
     "execution_count": 27,
     "metadata": {},
     "output_type": "execute_result"
    },
    {
     "data": {
      "image/png": "[encoded data removed]",
      "text/plain": [
       "<Figure size 1440x1440 with 25 Axes>"
      ]
     },
     "metadata": {
      "needs_background": "light"
     },
     "output_type": "display_data"
    }
   ],
   "source": [
    "df.plot(kind='box',subplots=True,layout=(5,5),figsize=(20,20))"
   ]
  },
  {
   "cell_type": "markdown",
   "metadata": {},
   "source": [
    "**We have Outliers Present at Newspaper**"
   ]
  },
  {
   "cell_type": "markdown",
   "metadata": {},
   "source": [
    "# Now Lets Check Skewness "
   ]
  },
  {
   "cell_type": "code",
   "execution_count": 28,
   "metadata": {},
   "outputs": [
    {
     "data": {
      "text/plain": [
       "TV          -0.069853\n",
       "radio        0.094175\n",
       "newspaper    0.894720\n",
       "sales        0.407571\n",
       "dtype: float64"
      ]
     },
     "execution_count": 28,
     "metadata": {},
     "output_type": "execute_result"
    }
   ],
   "source": [
    "df.skew()"
   ]
  },
  {
   "cell_type": "markdown",
   "metadata": {},
   "source": [
    "**I can find newspaper is bit skewed**"
   ]
  },
  {
   "cell_type": "raw",
   "metadata": {},
   "source": [
    "As a general rule of thumb:\n",
    "\n",
    "​------------------------------------------------------------------------------------------------\n",
    "If skewness is less than -1 or greater than 1, the distribution is highly skewed.\n",
    "\n",
    "If skewness is between -1 and -0.5 or between 0.5 and 1, the distribution is moderately skewed.\n",
    "\n",
    "If skewness is between -0.5 and 0.5, the distribution is approximately symmetric\n",
    "\n",
    "---------------------------------------------------------------------------------------------------\n",
    "Acceptable range of Skewness: -0.5/+0,5"
   ]
  },
  {
   "cell_type": "code",
   "execution_count": 29,
   "metadata": {},
   "outputs": [
    {
     "data": {
      "image/png": "[encoded data removed]",
      "text/plain": [
       "<Figure size 1440x1440 with 4 Axes>"
      ]
     },
     "metadata": {
      "needs_background": "light"
     },
     "output_type": "display_data"
    }
   ],
   "source": [
    "#Lets plot all using Histogram and see the skewness again\n",
    " \n",
    "plt.rcParams['figure.figsize']=(20,20)\n",
    "df.hist(bins=25,color='pink',density=True,label='Value',histtype='bar')\n",
    "plt.tight_layout()\n",
    "plt.show()"
   ]
  },
  {
   "cell_type": "markdown",
   "metadata": {},
   "source": [
    "**WE can see that data is not normalized we have to treat this but we will remove outliers first...**"
   ]
  },
  {
   "cell_type": "markdown",
   "metadata": {},
   "source": [
    "# Considering the outliers removal"
   ]
  },
  {
   "cell_type": "code",
   "execution_count": 30,
   "metadata": {},
   "outputs": [
    {
     "data": {
      "text/plain": [
       "(200, 4)"
      ]
     },
     "execution_count": 30,
     "metadata": {},
     "output_type": "execute_result"
    }
   ],
   "source": [
    "df.shape"
   ]
  },
  {
   "cell_type": "code",
   "execution_count": 31,
   "metadata": {},
   "outputs": [
    {
     "data": {
      "text/plain": [
       "(array([ 16, 101], dtype=int64), array([2, 2], dtype=int64))"
      ]
     },
     "execution_count": 31,
     "metadata": {},
     "output_type": "execute_result"
    }
   ],
   "source": [
    "from scipy.stats import zscore\n",
    "z=np.abs(zscore(df))\n",
    "threshold=3\n",
    "np.where(z>3)"
   ]
  },
  {
   "cell_type": "code",
   "execution_count": 32,
   "metadata": {},
   "outputs": [],
   "source": [
    "df_new=df[(z<3).all(axis=1)]"
   ]
  },
  {
   "cell_type": "code",
   "execution_count": 33,
   "metadata": {},
   "outputs": [
    {
     "data": {
      "text/plain": [
       "(198, 4)"
      ]
     },
     "execution_count": 33,
     "metadata": {},
     "output_type": "execute_result"
    }
   ],
   "source": [
    "df_new.shape"
   ]
  },
  {
   "cell_type": "code",
   "execution_count": 34,
   "metadata": {},
   "outputs": [
    {
     "data": {
      "text/plain": [
       "1.0"
      ]
     },
     "execution_count": 34,
     "metadata": {},
     "output_type": "execute_result"
    }
   ],
   "source": [
    "# Percentage of data loss\n",
    "\n",
    "DataLoss=((200-198)/200)*100\n",
    "DataLoss"
   ]
  },
  {
   "cell_type": "raw",
   "metadata": {},
   "source": [
    "Only 1% dataloss has taken place while removing outliers"
   ]
  },
  {
   "cell_type": "markdown",
   "metadata": {},
   "source": [
    "# Seprating the columns into features and target"
   ]
  },
  {
   "cell_type": "code",
   "execution_count": 35,
   "metadata": {},
   "outputs": [
    {
     "data": {
      "text/html": [
       "<div>\n",
       "<style scoped>\n",
       "    .dataframe tbody tr th:only-of-type {\n",
       "        vertical-align: middle;\n",
       "    }\n",
       "\n",
       "    .dataframe tbody tr th {\n",
       "        vertical-align: top;\n",
       "    }\n",
       "\n",
       "    .dataframe thead th {\n",
       "        text-align: right;\n",
       "    }\n",
       "</style>\n",
       "<table border=\"1\" class=\"dataframe\">\n",
       "  <thead>\n",
       "    <tr style=\"text-align: right;\">\n",
       "      <th></th>\n",
       "      <th>TV</th>\n",
       "      <th>radio</th>\n",
       "      <th>newspaper</th>\n",
       "      <th>sales</th>\n",
       "    </tr>\n",
       "  </thead>\n",
       "  <tbody>\n",
       "    <tr>\n",
       "      <th>1</th>\n",
       "      <td>230.1</td>\n",
       "      <td>37.8</td>\n",
       "      <td>69.2</td>\n",
       "      <td>22.1</td>\n",
       "    </tr>\n",
       "    <tr>\n",
       "      <th>2</th>\n",
       "      <td>44.5</td>\n",
       "      <td>39.3</td>\n",
       "      <td>45.1</td>\n",
       "      <td>10.4</td>\n",
       "    </tr>\n",
       "    <tr>\n",
       "      <th>3</th>\n",
       "      <td>17.2</td>\n",
       "      <td>45.9</td>\n",
       "      <td>69.3</td>\n",
       "      <td>9.3</td>\n",
       "    </tr>\n",
       "    <tr>\n",
       "      <th>4</th>\n",
       "      <td>151.5</td>\n",
       "      <td>41.3</td>\n",
       "      <td>58.5</td>\n",
       "      <td>18.5</td>\n",
       "    </tr>\n",
       "    <tr>\n",
       "      <th>5</th>\n",
       "      <td>180.8</td>\n",
       "      <td>10.8</td>\n",
       "      <td>58.4</td>\n",
       "      <td>12.9</td>\n",
       "    </tr>\n",
       "  </tbody>\n",
       "</table>\n",
       "</div>"
      ],
      "text/plain": [
       "      TV  radio  newspaper  sales\n",
       "1  230.1   37.8       69.2   22.1\n",
       "2   44.5   39.3       45.1   10.4\n",
       "3   17.2   45.9       69.3    9.3\n",
       "4  151.5   41.3       58.5   18.5\n",
       "5  180.8   10.8       58.4   12.9"
      ]
     },
     "execution_count": 35,
     "metadata": {},
     "output_type": "execute_result"
    }
   ],
   "source": [
    "df.head()"
   ]
  },
  {
   "cell_type": "code",
   "execution_count": 36,
   "metadata": {},
   "outputs": [],
   "source": [
    "#Independent Variable\n",
    "x=df.iloc[:,:-1]\n",
    "\n",
    "\n",
    "y=df.iloc[:,-1]"
   ]
  },
  {
   "cell_type": "code",
   "execution_count": 37,
   "metadata": {},
   "outputs": [
    {
     "data": {
      "text/plain": [
       "(200, 3)"
      ]
     },
     "execution_count": 37,
     "metadata": {},
     "output_type": "execute_result"
    }
   ],
   "source": [
    "x.shape"
   ]
  },
  {
   "cell_type": "code",
   "execution_count": 38,
   "metadata": {},
   "outputs": [
    {
     "data": {
      "text/plain": [
       "(200,)"
      ]
     },
     "execution_count": 38,
     "metadata": {},
     "output_type": "execute_result"
    }
   ],
   "source": [
    "y.shape"
   ]
  },
  {
   "cell_type": "markdown",
   "metadata": {},
   "source": [
    "# Transforming data to remove skewness"
   ]
  },
  {
   "cell_type": "code",
   "execution_count": 39,
   "metadata": {},
   "outputs": [],
   "source": [
    "from sklearn.preprocessing import power_transform"
   ]
  },
  {
   "cell_type": "code",
   "execution_count": 40,
   "metadata": {},
   "outputs": [],
   "source": [
    "x=power_transform(x,method='yeo-johnson')"
   ]
  },
  {
   "cell_type": "code",
   "execution_count": 41,
   "metadata": {},
   "outputs": [
    {
     "data": {
      "text/plain": [
       "array([[ 0.94867429,  0.96224689,  1.51433531],\n",
       "       [-1.19131426,  1.0401788 ,  0.78768252],\n",
       "       [-1.6477566 ,  1.37070964,  1.51699753],\n",
       "       [ 0.14102023,  1.14238689,  1.21465643],\n",
       "       [ 0.45271493, -0.74865064,  1.21170398],\n",
       "       [-1.82382233,  1.51501853,  1.66502354],\n",
       "       [-1.00249116,  0.69372704, -0.1077535 ],\n",
       "       [-0.210275  , -0.10158544, -0.84409341],\n",
       "       [-1.82609501, -1.63345378, -2.13259669],\n",
       "       [ 0.64764492, -1.56676988, -0.22900395],\n",
       "       [-0.88377378, -1.20298758, -0.07226156],\n",
       "       [ 0.79708355,  0.18072579, -1.60261898],\n",
       "       [-1.52641627,  0.81900563,  1.42512925],\n",
       "       [-0.48036844, -1.02813642, -1.22982506],\n",
       "       [ 0.69106577,  0.6992403 ,  0.81860579],\n",
       "       [ 0.60295713,  1.45770359,  1.04432344],\n",
       "       [-0.86079972,  0.89906999,  2.52943514],\n",
       "       [ 1.4355201 ,  1.05563142,  1.13383286],\n",
       "       [-0.84199328, -0.04209908, -0.39356015],\n",
       "       [ 0.09508551,  0.17453165, -0.34671544],\n",
       "       [ 0.8337607 ,  0.40367061,  1.05996548],\n",
       "       [ 1.01958629, -1.27567304, -0.1077535 ],\n",
       "       [-1.72701642, -0.35739289,  0.93875739],\n",
       "       [ 0.93109798, -0.28631129,  0.02589311],\n",
       "       [-0.93569772, -0.60431061, -0.39356015],\n",
       "       [ 1.26290943, -1.4550585 , -0.3237259 ],\n",
       "       [ 0.04659013,  0.49664406, -0.76867281],\n",
       "       [ 1.0456669 , -0.30040383, -0.1386789 ],\n",
       "       [ 1.12918152,  0.3682981 , -0.1386789 ],\n",
       "       [-0.82328646, -0.35021379,  0.63452018],\n",
       "       [ 1.54129731,  0.43876195,  0.72114861],\n",
       "       [-0.29553337, -0.25134036,  0.55235877],\n",
       "       [-0.48404243, -1.71918898,  0.20071936],\n",
       "       [ 1.28829734, -0.07502706, -2.32472495],\n",
       "       [-0.50245749, -1.7342107 , -1.20981332],\n",
       "       [ 1.52114819, -1.3853128 , -1.10471076],\n",
       "       [ 1.3004967 ,  1.2675887 , -1.47330873],\n",
       "       [-0.76905257,  1.53874417,  0.80833914],\n",
       "       [-1.21245403,  0.34455612,  0.4155984 ],\n",
       "       [ 0.92816503,  0.95701091,  0.28742321],\n",
       "       [ 0.67493776,  0.07409584,  0.27034854],\n",
       "       [ 0.41309098,  0.72671408,  0.55615392],\n",
       "       [ 1.54769995,  0.40367061, -1.95904851],\n",
       "       [ 0.71920943, -0.95499286,  0.03545918],\n",
       "       [-1.50359538,  0.28462118,  0.72469411],\n",
       "       [ 0.39319467,  0.08679116,  0.26605961],\n",
       "       [-0.57689562, -0.82396106,  0.43960934],\n",
       "       [ 1.04373768,  1.15250515, -0.3817378 ],\n",
       "       [ 0.92033882, -0.36458821,  0.94852755],\n",
       "       [-0.87294338, -0.67550361,  0.48300508],\n",
       "       [ 0.64764492, -1.50354208,  0.3953996 ],\n",
       "       [-0.44500506, -0.84958728, -1.65883577],\n",
       "       [ 0.81395585,  1.16260524,  0.59004665],\n",
       "       [ 0.47140703,  1.38529598,  1.22055211],\n",
       "       [ 1.2610261 ,  0.46779569, -0.54176985],\n",
       "       [ 0.63852563,  1.53874417,  1.25857888],\n",
       "       [-1.85624738,  0.42709558,  0.65646046],\n",
       "       [-0.02802214, -0.12834141, -0.49726342],\n",
       "       [ 0.75824197,  1.54820925,  0.51793191],\n",
       "       [ 0.75724354,  0.50813245, -1.03293213],\n",
       "       [-1.05927427, -1.64727037, -0.21815975],\n",
       "       [ 1.24783212,  1.21283741,  1.10022212],\n",
       "       [ 1.03794746, -0.38627294,  0.07797929],\n",
       "       [-0.41714955,  0.51386586, -1.11394312],\n",
       "       [-0.08546826,  1.21783637,  0.15154706],\n",
       "       [-0.84467375, -0.87549189, -2.1571572 ],\n",
       "       [-1.39531449,  0.21769395, -1.88378271],\n",
       "       [ 0.0066178 , -0.45966823, -0.95619942],\n",
       "       [ 1.01958629,  0.39191142, -0.8911416 ],\n",
       "       [ 0.81792069,  1.2725405 ,  0.07329661],\n",
       "       [ 0.64055308,  0.5708121 ,  0.55615392],\n",
       "       [-0.3321763 , -0.4745618 ,  0.27462933],\n",
       "       [-1.47420382,  0.70474737, -0.33518557],\n",
       "       [-0.10474749, -1.21318999,  0.25745713],\n",
       "       [ 0.7841573 ,  0.21769395, -0.73224866],\n",
       "       [-1.65352738,  1.26263268,  2.01064695],\n",
       "       [-1.46224158, -1.70439494, -0.25638211],\n",
       "       [-0.20680098,  0.45039797, -0.65484297],\n",
       "       [-1.90271957,  0.53102334, -1.02420602],\n",
       "       [-0.25915513, -1.01885558, -0.1283175 ],\n",
       "       [-0.74679627,  0.34455612, -0.17008941],\n",
       "       [ 1.04277291, -1.3853128 ,  0.48691113],\n",
       "       [-0.76118235, -0.05523482,  0.30858709],\n",
       "       [-0.85272745,  1.30216339,  0.43562451],\n",
       "       [ 0.78515237,  1.22782124,  0.36271243],\n",
       "       [ 0.58051341, -0.1824681 ,  1.41963599],\n",
       "       [-0.74810183,  0.39191142, -0.53534269],\n",
       "       [-0.32151022,  1.10682827,  1.35009138],\n",
       "       [-0.59445094,  0.27253204,  1.62418784],\n",
       "       [-0.3321763 ,  1.46250027,  0.99685054],\n",
       "       [-0.04935604, -1.29701657, -1.03293213],\n",
       "       [-1.44360046, -1.71918898,  0.32955606],\n",
       "       [ 0.8268345 ,  0.7321905 ,  1.22937273],\n",
       "       [ 1.14922339,  0.89377076,  1.59579653],\n",
       "       [-0.36073275, -0.49704225, -0.89912378],\n",
       "       [ 0.26831445,  0.62707446,  1.04432344],\n",
       "       [ 0.62533398, -1.4550585 , -1.3679351 ],\n",
       "       [ 0.49522053, -0.00946213, -0.18598289],\n",
       "       [ 1.51197614,  1.19279775,  0.99045745],\n",
       "       [-0.03924063,  1.16260524,  0.8151881 ],\n",
       "       [ 0.87322688, -1.36277082,  0.94527481],\n",
       "       [ 1.57327016,  0.88315609,  2.2628248 ],\n",
       "       [ 1.42441703, -0.80702634, -0.21815975],\n",
       "       [ 0.52616407, -0.26528466, -0.41743473],\n",
       "       [ 1.02732204,  0.77578583, -1.4371576 ],\n",
       "       [-0.00900053,  1.39500055,  1.22937273],\n",
       "       [-1.50533991, -0.73221674,  0.18741746],\n",
       "       [-0.56814506, -1.91962741, -0.12315678],\n",
       "       [-1.72906885, -1.90076688, -0.00306944],\n",
       "       [ 1.19202117,  0.35644335, -1.41364623],\n",
       "       [ 0.90662534, -0.97304835,  1.15501188],\n",
       "       [ 1.06108536,  0.97270342, -0.12315678],\n",
       "       [ 0.39948386, -0.39353456, -1.84832983],\n",
       "       [ 0.74625251, -0.0355487 , -0.91521378],\n",
       "       [-0.72337219,  1.41436293,  0.39133878],\n",
       "       [-0.76380392,  0.81362329,  1.03804144],\n",
       "       [ 0.00550359, -0.4745618 , -0.00306944],\n",
       "       [-0.74679627, -1.82997283, -0.6140794 ],\n",
       "       [-0.1469415 ,  0.91493549,  1.76974284],\n",
       "       [-1.60617806, -0.35021379, -0.17008941],\n",
       "       [ 0.02885793,  0.35050382,  0.82542768],\n",
       "       [-1.61739376,  0.0357579 ,  0.96473213],\n",
       "       [ 0.88896054, -1.59299019, -0.56119394],\n",
       "       [-0.17678774,  0.79203663, -0.78347482],\n",
       "       [ 0.94281959,  0.66606674,  1.64467302],\n",
       "       [-0.60829585, -0.66750027,  0.01146189],\n",
       "       [-1.84451116,  1.01950683,  0.9711866 ],\n",
       "       [-0.69751107, -1.9798635 , -1.04171092],\n",
       "       [ 0.85253082,  1.51977089, -1.71817136],\n",
       "       [-0.9730961 , -0.65156482,  0.71759813],\n",
       "       [-2.04026249,  1.05563142, -1.08642518],\n",
       "       [ 1.2845405 , -1.52845902,  0.71404265],\n",
       "       [-1.83065941,  0.37421339, -1.90202575],\n",
       "       [ 0.84759549,  0.7321905 ,  0.78768252],\n",
       "       [-1.30833884,  1.0039509 ,  1.41688552],\n",
       "       [-1.1347862 ,  1.42402092, -1.10471076],\n",
       "       [-1.49489926,  1.02468221, -1.03293213],\n",
       "       [ 1.36405418,  0.47358005,  1.2498484 ],\n",
       "       [-1.2139708 ,  0.2966758 , -0.26744284],\n",
       "       [ 0.49522053,  1.2725405 , -1.97889407],\n",
       "       [-0.78616198, -0.27928757, -0.74672069],\n",
       "       [ 0.58562018,  0.83511859,  1.68019945],\n",
       "       [ 0.85450412,  0.71574298,  0.52562487],\n",
       "       [-0.39426242, -1.21318999,  0.38727085],\n",
       "       [-0.49631074, -0.43746469,  0.56372647],\n",
       "       [ 0.01774834, -1.66126392, -1.05942991],\n",
       "       [ 1.0456669 , -1.05622936, -1.08642518],\n",
       "       [ 1.07551559,  1.51977089,  0.75987942],\n",
       "       [-1.29103896,  1.09151903, -0.82108927],\n",
       "       [-1.18830853,  0.29065278, -0.26190454],\n",
       "       [ 1.42904484, -0.50457379,  0.49081078],\n",
       "       [-0.20101603, -0.95499286,  0.90922967],\n",
       "       [ 0.62533398,  0.13716541, -0.65484297],\n",
       "       [ 0.35322947,  1.0607726 ,  0.51793191],\n",
       "       [ 0.52513474, -0.00296885, -1.01553176],\n",
       "       [-1.93665721, -0.68353104, -1.39057916],\n",
       "       [-0.52465633,  1.25270792,  0.96796131],\n",
       "       [ 0.12246872, -1.74947332, -0.06724139],\n",
       "       [-1.75822712,  0.91493549,  0.79113681],\n",
       "       [-0.07867963, -0.1824681 ,  0.3953996 ],\n",
       "       [ 0.36587519, -0.20298441,  0.23144984],\n",
       "       [-0.62724967,  0.85652391,  0.92895126],\n",
       "       [ 0.53130856, -0.20298441, -0.00306944],\n",
       "       [ 0.27045056,  0.90965233, -1.20981332],\n",
       "       [-0.24514238, -0.44484785, -1.42534498],\n",
       "       [ 0.99148599, -1.46701964,  1.90420913],\n",
       "       [-1.63438885,  0.95176976, -0.20737541],\n",
       "       [ 0.71820605, -1.26510158, -0.32944703],\n",
       "       [ 0.80403524,  0.15589202,  1.18797267],\n",
       "       [ 1.46230082, -0.76519122, -1.31304986],\n",
       "       [-1.10987617, -0.68353104, -0.38763953],\n",
       "       [ 0.28112073, -0.01596668,  0.86598739],\n",
       "       [-1.60245911, -0.06841773, -0.47232241],\n",
       "       [ 0.32257166, -1.07517365, -0.75400514],\n",
       "       [ 0.87322688, -1.46701964, -0.73224866],\n",
       "       [ 1.39381826,  1.51501853,  0.67098058],\n",
       "       [ 1.12535894,  0.54811736, -0.27856754],\n",
       "       [ 0.34161695, -1.00961537,  0.41961731],\n",
       "       [ 1.39196069, -1.60632069, -0.09754949],\n",
       "       [ 0.29283811, -0.81547901, -0.43554699],\n",
       "       [ 0.19634785, -1.56676988, -1.12323656],\n",
       "       [ 0.83474968, -1.2441519 ,  0.08265171],\n",
       "       [-1.02082882, -1.21318999,  0.18741746],\n",
       "       [ 1.49268741,  1.22782124,  1.58280405],\n",
       "       [ 1.17682728,  0.00998415,  0.20071936],\n",
       "       [ 0.70012304,  1.33163754, -0.31802204],\n",
       "       [ 0.0088456 , -1.63345378,  0.04498207],\n",
       "       [ 0.55902662,  0.46200391, -0.39949982],\n",
       "       [ 1.47796614, -0.50457379, -1.64450612],\n",
       "       [-1.61927178, -0.64363221, -0.11287487],\n",
       "       [-1.267656  ,  1.13225036, -1.37920552],\n",
       "       [-0.75856261, -0.74865064, -1.35676548],\n",
       "       [-1.6477566 , -1.3853128 ,  0.27034854],\n",
       "       [ 0.30559723,  1.1777216 , -1.65883577],\n",
       "       [ 0.12137572,  0.84583242, -1.35676548],\n",
       "       [-1.28790757, -1.43143631, -0.68257581],\n",
       "       [-0.52094879, -1.29701657, -1.14201102],\n",
       "       [ 0.41309098, -0.87549189, -1.31304986],\n",
       "       [ 1.45584317,  1.1777216 ,  1.43335009],\n",
       "       [ 0.96816082, -0.93708342, -1.08642518]])"
      ]
     },
     "execution_count": 41,
     "metadata": {},
     "output_type": "execute_result"
    }
   ],
   "source": [
    "x"
   ]
  },
  {
   "cell_type": "code",
   "execution_count": 42,
   "metadata": {},
   "outputs": [
    {
     "data": {
      "text/plain": [
       "array([[ 0.94867429,  0.96224689,  1.51433531],\n",
       "       [-1.19131426,  1.0401788 ,  0.78768252],\n",
       "       [-1.6477566 ,  1.37070964,  1.51699753],\n",
       "       [ 0.14102023,  1.14238689,  1.21465643],\n",
       "       [ 0.45271493, -0.74865064,  1.21170398],\n",
       "       [-1.82382233,  1.51501853,  1.66502354],\n",
       "       [-1.00249116,  0.69372704, -0.1077535 ],\n",
       "       [-0.210275  , -0.10158544, -0.84409341],\n",
       "       [-1.82609501, -1.63345378, -2.13259669],\n",
       "       [ 0.64764492, -1.56676988, -0.22900395],\n",
       "       [-0.88377378, -1.20298758, -0.07226156],\n",
       "       [ 0.79708355,  0.18072579, -1.60261898],\n",
       "       [-1.52641627,  0.81900563,  1.42512925],\n",
       "       [-0.48036844, -1.02813642, -1.22982506],\n",
       "       [ 0.69106577,  0.6992403 ,  0.81860579],\n",
       "       [ 0.60295713,  1.45770359,  1.04432344],\n",
       "       [-0.86079972,  0.89906999,  2.52943514],\n",
       "       [ 1.4355201 ,  1.05563142,  1.13383286],\n",
       "       [-0.84199328, -0.04209908, -0.39356015],\n",
       "       [ 0.09508551,  0.17453165, -0.34671544],\n",
       "       [ 0.8337607 ,  0.40367061,  1.05996548],\n",
       "       [ 1.01958629, -1.27567304, -0.1077535 ],\n",
       "       [-1.72701642, -0.35739289,  0.93875739],\n",
       "       [ 0.93109798, -0.28631129,  0.02589311],\n",
       "       [-0.93569772, -0.60431061, -0.39356015],\n",
       "       [ 1.26290943, -1.4550585 , -0.3237259 ],\n",
       "       [ 0.04659013,  0.49664406, -0.76867281],\n",
       "       [ 1.0456669 , -0.30040383, -0.1386789 ],\n",
       "       [ 1.12918152,  0.3682981 , -0.1386789 ],\n",
       "       [-0.82328646, -0.35021379,  0.63452018],\n",
       "       [ 1.54129731,  0.43876195,  0.72114861],\n",
       "       [-0.29553337, -0.25134036,  0.55235877],\n",
       "       [-0.48404243, -1.71918898,  0.20071936],\n",
       "       [ 1.28829734, -0.07502706, -2.32472495],\n",
       "       [-0.50245749, -1.7342107 , -1.20981332],\n",
       "       [ 1.52114819, -1.3853128 , -1.10471076],\n",
       "       [ 1.3004967 ,  1.2675887 , -1.47330873],\n",
       "       [-0.76905257,  1.53874417,  0.80833914],\n",
       "       [-1.21245403,  0.34455612,  0.4155984 ],\n",
       "       [ 0.92816503,  0.95701091,  0.28742321],\n",
       "       [ 0.67493776,  0.07409584,  0.27034854],\n",
       "       [ 0.41309098,  0.72671408,  0.55615392],\n",
       "       [ 1.54769995,  0.40367061, -1.95904851],\n",
       "       [ 0.71920943, -0.95499286,  0.03545918],\n",
       "       [-1.50359538,  0.28462118,  0.72469411],\n",
       "       [ 0.39319467,  0.08679116,  0.26605961],\n",
       "       [-0.57689562, -0.82396106,  0.43960934],\n",
       "       [ 1.04373768,  1.15250515, -0.3817378 ],\n",
       "       [ 0.92033882, -0.36458821,  0.94852755],\n",
       "       [-0.87294338, -0.67550361,  0.48300508],\n",
       "       [ 0.64764492, -1.50354208,  0.3953996 ],\n",
       "       [-0.44500506, -0.84958728, -1.65883577],\n",
       "       [ 0.81395585,  1.16260524,  0.59004665],\n",
       "       [ 0.47140703,  1.38529598,  1.22055211],\n",
       "       [ 1.2610261 ,  0.46779569, -0.54176985],\n",
       "       [ 0.63852563,  1.53874417,  1.25857888],\n",
       "       [-1.85624738,  0.42709558,  0.65646046],\n",
       "       [-0.02802214, -0.12834141, -0.49726342],\n",
       "       [ 0.75824197,  1.54820925,  0.51793191],\n",
       "       [ 0.75724354,  0.50813245, -1.03293213],\n",
       "       [-1.05927427, -1.64727037, -0.21815975],\n",
       "       [ 1.24783212,  1.21283741,  1.10022212],\n",
       "       [ 1.03794746, -0.38627294,  0.07797929],\n",
       "       [-0.41714955,  0.51386586, -1.11394312],\n",
       "       [-0.08546826,  1.21783637,  0.15154706],\n",
       "       [-0.84467375, -0.87549189, -2.1571572 ],\n",
       "       [-1.39531449,  0.21769395, -1.88378271],\n",
       "       [ 0.0066178 , -0.45966823, -0.95619942],\n",
       "       [ 1.01958629,  0.39191142, -0.8911416 ],\n",
       "       [ 0.81792069,  1.2725405 ,  0.07329661],\n",
       "       [ 0.64055308,  0.5708121 ,  0.55615392],\n",
       "       [-0.3321763 , -0.4745618 ,  0.27462933],\n",
       "       [-1.47420382,  0.70474737, -0.33518557],\n",
       "       [-0.10474749, -1.21318999,  0.25745713],\n",
       "       [ 0.7841573 ,  0.21769395, -0.73224866],\n",
       "       [-1.65352738,  1.26263268,  2.01064695],\n",
       "       [-1.46224158, -1.70439494, -0.25638211],\n",
       "       [-0.20680098,  0.45039797, -0.65484297],\n",
       "       [-1.90271957,  0.53102334, -1.02420602],\n",
       "       [-0.25915513, -1.01885558, -0.1283175 ],\n",
       "       [-0.74679627,  0.34455612, -0.17008941],\n",
       "       [ 1.04277291, -1.3853128 ,  0.48691113],\n",
       "       [-0.76118235, -0.05523482,  0.30858709],\n",
       "       [-0.85272745,  1.30216339,  0.43562451],\n",
       "       [ 0.78515237,  1.22782124,  0.36271243],\n",
       "       [ 0.58051341, -0.1824681 ,  1.41963599],\n",
       "       [-0.74810183,  0.39191142, -0.53534269],\n",
       "       [-0.32151022,  1.10682827,  1.35009138],\n",
       "       [-0.59445094,  0.27253204,  1.62418784],\n",
       "       [-0.3321763 ,  1.46250027,  0.99685054],\n",
       "       [-0.04935604, -1.29701657, -1.03293213],\n",
       "       [-1.44360046, -1.71918898,  0.32955606],\n",
       "       [ 0.8268345 ,  0.7321905 ,  1.22937273],\n",
       "       [ 1.14922339,  0.89377076,  1.59579653],\n",
       "       [-0.36073275, -0.49704225, -0.89912378],\n",
       "       [ 0.26831445,  0.62707446,  1.04432344],\n",
       "       [ 0.62533398, -1.4550585 , -1.3679351 ],\n",
       "       [ 0.49522053, -0.00946213, -0.18598289],\n",
       "       [ 1.51197614,  1.19279775,  0.99045745],\n",
       "       [-0.03924063,  1.16260524,  0.8151881 ],\n",
       "       [ 0.87322688, -1.36277082,  0.94527481],\n",
       "       [ 1.57327016,  0.88315609,  2.2628248 ],\n",
       "       [ 1.42441703, -0.80702634, -0.21815975],\n",
       "       [ 0.52616407, -0.26528466, -0.41743473],\n",
       "       [ 1.02732204,  0.77578583, -1.4371576 ],\n",
       "       [-0.00900053,  1.39500055,  1.22937273],\n",
       "       [-1.50533991, -0.73221674,  0.18741746],\n",
       "       [-0.56814506, -1.91962741, -0.12315678],\n",
       "       [-1.72906885, -1.90076688, -0.00306944],\n",
       "       [ 1.19202117,  0.35644335, -1.41364623],\n",
       "       [ 0.90662534, -0.97304835,  1.15501188],\n",
       "       [ 1.06108536,  0.97270342, -0.12315678],\n",
       "       [ 0.39948386, -0.39353456, -1.84832983],\n",
       "       [ 0.74625251, -0.0355487 , -0.91521378],\n",
       "       [-0.72337219,  1.41436293,  0.39133878],\n",
       "       [-0.76380392,  0.81362329,  1.03804144],\n",
       "       [ 0.00550359, -0.4745618 , -0.00306944],\n",
       "       [-0.74679627, -1.82997283, -0.6140794 ],\n",
       "       [-0.1469415 ,  0.91493549,  1.76974284],\n",
       "       [-1.60617806, -0.35021379, -0.17008941],\n",
       "       [ 0.02885793,  0.35050382,  0.82542768],\n",
       "       [-1.61739376,  0.0357579 ,  0.96473213],\n",
       "       [ 0.88896054, -1.59299019, -0.56119394],\n",
       "       [-0.17678774,  0.79203663, -0.78347482],\n",
       "       [ 0.94281959,  0.66606674,  1.64467302],\n",
       "       [-0.60829585, -0.66750027,  0.01146189],\n",
       "       [-1.84451116,  1.01950683,  0.9711866 ],\n",
       "       [-0.69751107, -1.9798635 , -1.04171092],\n",
       "       [ 0.85253082,  1.51977089, -1.71817136],\n",
       "       [-0.9730961 , -0.65156482,  0.71759813],\n",
       "       [-2.04026249,  1.05563142, -1.08642518],\n",
       "       [ 1.2845405 , -1.52845902,  0.71404265],\n",
       "       [-1.83065941,  0.37421339, -1.90202575],\n",
       "       [ 0.84759549,  0.7321905 ,  0.78768252],\n",
       "       [-1.30833884,  1.0039509 ,  1.41688552],\n",
       "       [-1.1347862 ,  1.42402092, -1.10471076],\n",
       "       [-1.49489926,  1.02468221, -1.03293213],\n",
       "       [ 1.36405418,  0.47358005,  1.2498484 ],\n",
       "       [-1.2139708 ,  0.2966758 , -0.26744284],\n",
       "       [ 0.49522053,  1.2725405 , -1.97889407],\n",
       "       [-0.78616198, -0.27928757, -0.74672069],\n",
       "       [ 0.58562018,  0.83511859,  1.68019945],\n",
       "       [ 0.85450412,  0.71574298,  0.52562487],\n",
       "       [-0.39426242, -1.21318999,  0.38727085],\n",
       "       [-0.49631074, -0.43746469,  0.56372647],\n",
       "       [ 0.01774834, -1.66126392, -1.05942991],\n",
       "       [ 1.0456669 , -1.05622936, -1.08642518],\n",
       "       [ 1.07551559,  1.51977089,  0.75987942],\n",
       "       [-1.29103896,  1.09151903, -0.82108927],\n",
       "       [-1.18830853,  0.29065278, -0.26190454],\n",
       "       [ 1.42904484, -0.50457379,  0.49081078],\n",
       "       [-0.20101603, -0.95499286,  0.90922967],\n",
       "       [ 0.62533398,  0.13716541, -0.65484297],\n",
       "       [ 0.35322947,  1.0607726 ,  0.51793191],\n",
       "       [ 0.52513474, -0.00296885, -1.01553176],\n",
       "       [-1.93665721, -0.68353104, -1.39057916],\n",
       "       [-0.52465633,  1.25270792,  0.96796131],\n",
       "       [ 0.12246872, -1.74947332, -0.06724139],\n",
       "       [-1.75822712,  0.91493549,  0.79113681],\n",
       "       [-0.07867963, -0.1824681 ,  0.3953996 ],\n",
       "       [ 0.36587519, -0.20298441,  0.23144984],\n",
       "       [-0.62724967,  0.85652391,  0.92895126],\n",
       "       [ 0.53130856, -0.20298441, -0.00306944],\n",
       "       [ 0.27045056,  0.90965233, -1.20981332],\n",
       "       [-0.24514238, -0.44484785, -1.42534498],\n",
       "       [ 0.99148599, -1.46701964,  1.90420913],\n",
       "       [-1.63438885,  0.95176976, -0.20737541],\n",
       "       [ 0.71820605, -1.26510158, -0.32944703],\n",
       "       [ 0.80403524,  0.15589202,  1.18797267],\n",
       "       [ 1.46230082, -0.76519122, -1.31304986],\n",
       "       [-1.10987617, -0.68353104, -0.38763953],\n",
       "       [ 0.28112073, -0.01596668,  0.86598739],\n",
       "       [-1.60245911, -0.06841773, -0.47232241],\n",
       "       [ 0.32257166, -1.07517365, -0.75400514],\n",
       "       [ 0.87322688, -1.46701964, -0.73224866],\n",
       "       [ 1.39381826,  1.51501853,  0.67098058],\n",
       "       [ 1.12535894,  0.54811736, -0.27856754],\n",
       "       [ 0.34161695, -1.00961537,  0.41961731],\n",
       "       [ 1.39196069, -1.60632069, -0.09754949],\n",
       "       [ 0.29283811, -0.81547901, -0.43554699],\n",
       "       [ 0.19634785, -1.56676988, -1.12323656],\n",
       "       [ 0.83474968, -1.2441519 ,  0.08265171],\n",
       "       [-1.02082882, -1.21318999,  0.18741746],\n",
       "       [ 1.49268741,  1.22782124,  1.58280405],\n",
       "       [ 1.17682728,  0.00998415,  0.20071936],\n",
       "       [ 0.70012304,  1.33163754, -0.31802204],\n",
       "       [ 0.0088456 , -1.63345378,  0.04498207],\n",
       "       [ 0.55902662,  0.46200391, -0.39949982],\n",
       "       [ 1.47796614, -0.50457379, -1.64450612],\n",
       "       [-1.61927178, -0.64363221, -0.11287487],\n",
       "       [-1.267656  ,  1.13225036, -1.37920552],\n",
       "       [-0.75856261, -0.74865064, -1.35676548],\n",
       "       [-1.6477566 , -1.3853128 ,  0.27034854],\n",
       "       [ 0.30559723,  1.1777216 , -1.65883577],\n",
       "       [ 0.12137572,  0.84583242, -1.35676548],\n",
       "       [-1.28790757, -1.43143631, -0.68257581],\n",
       "       [-0.52094879, -1.29701657, -1.14201102],\n",
       "       [ 0.41309098, -0.87549189, -1.31304986],\n",
       "       [ 1.45584317,  1.1777216 ,  1.43335009],\n",
       "       [ 0.96816082, -0.93708342, -1.08642518]])"
      ]
     },
     "execution_count": 42,
     "metadata": {},
     "output_type": "execute_result"
    }
   ],
   "source": [
    "from sklearn.preprocessing import StandardScaler\n",
    "\n",
    "#transform my dataset into a standard normal distribution\n",
    "\n",
    "sc=StandardScaler()\n",
    "\n",
    "x=sc.fit_transform(x)\n",
    "x"
   ]
  },
  {
   "cell_type": "code",
   "execution_count": 43,
   "metadata": {},
   "outputs": [
    {
     "data": {
      "text/plain": [
       "1.1842378929335004e-17"
      ]
     },
     "execution_count": 43,
     "metadata": {},
     "output_type": "execute_result"
    }
   ],
   "source": [
    "x.mean()"
   ]
  },
  {
   "cell_type": "code",
   "execution_count": 44,
   "metadata": {},
   "outputs": [
    {
     "data": {
      "text/plain": [
       "1.0"
      ]
     },
     "execution_count": 44,
     "metadata": {},
     "output_type": "execute_result"
    }
   ],
   "source": [
    "x.std()"
   ]
  },
  {
   "cell_type": "markdown",
   "metadata": {},
   "source": [
    "# Model Training and testing "
   ]
  },
  {
   "cell_type": "code",
   "execution_count": 45,
   "metadata": {},
   "outputs": [],
   "source": [
    "from sklearn.linear_model import LinearRegression\n",
    "lr=LinearRegression()\n",
    "from sklearn.metrics import r2_score\n",
    "from sklearn.model_selection import train_test_split"
   ]
  },
  {
   "cell_type": "code",
   "execution_count": 46,
   "metadata": {},
   "outputs": [
    {
     "name": "stdout",
     "output_type": "stream",
     "text": [
      "At random state  66  The model performs very well\n",
      "At random_state:- 66\n",
      "Training accuaracy_score is :- 90.9\n",
      "Testing accuracy_score is:- 90.0 \n",
      "\n",
      "\n",
      "At random state  74  The model performs very well\n",
      "At random_state:- 74\n",
      "Training accuaracy_score is :- 90.6\n",
      "Testing accuracy_score is:- 89.7 \n",
      "\n",
      "\n",
      "At random state  146  The model performs very well\n",
      "At random_state:- 146\n",
      "Training accuaracy_score is :- 90.9\n",
      "Testing accuracy_score is:- 90.0 \n",
      "\n",
      "\n",
      "At random state  176  The model performs very well\n",
      "At random_state:- 176\n",
      "Training accuaracy_score is :- 90.8\n",
      "Testing accuracy_score is:- 89.8 \n",
      "\n",
      "\n",
      "At random state  216  The model performs very well\n",
      "At random_state:- 216\n",
      "Training accuaracy_score is :- 90.7\n",
      "Testing accuracy_score is:- 89.7 \n",
      "\n",
      "\n"
     ]
    }
   ],
   "source": [
    "\n",
    "for i in range(0,1000):\n",
    "    x_train,x_test,y_train,y_test=train_test_split(x,y,random_state=i,test_size=0.20)\n",
    "    lr.fit(x_train,y_train)\n",
    "    pred_train=lr.predict(x_train)\n",
    "    pred_test=lr.predict(x_test)\n",
    "    if round(r2_score(pred_train,y_train)*100,1)==round(r2_score(y_test,pred_test)*100,1):\n",
    "        print(\"At random state \",i,\" The model performs very well\")\n",
    "        print(\"At random_state:-\",i)\n",
    "        print(\"Training accuaracy_score is :-\",round(r2_score(y_train,pred_train)*100,1))\n",
    "        print(\"Testing accuracy_score is:-\",round(r2_score(y_test,pred_test)*100,1),  '\\n\\n')"
   ]
  },
  {
   "cell_type": "code",
   "execution_count": 47,
   "metadata": {},
   "outputs": [],
   "source": [
    "x_train,x_test,y_train,y_test=train_test_split(x,y,test_size=0.2,random_state=66)"
   ]
  },
  {
   "cell_type": "code",
   "execution_count": 48,
   "metadata": {},
   "outputs": [
    {
     "data": {
      "text/plain": [
       "LinearRegression()"
      ]
     },
     "execution_count": 48,
     "metadata": {},
     "output_type": "execute_result"
    }
   ],
   "source": [
    "# train the model\n",
    "lr.fit(x_train,y_train)"
   ]
  },
  {
   "cell_type": "code",
   "execution_count": 49,
   "metadata": {},
   "outputs": [],
   "source": [
    "# predict the  data with x_test\n",
    "\n",
    "pred_test=lr.predict(x_test)"
   ]
  },
  {
   "cell_type": "code",
   "execution_count": 50,
   "metadata": {},
   "outputs": [
    {
     "name": "stdout",
     "output_type": "stream",
     "text": [
      "0.8996390781190254\n"
     ]
    }
   ],
   "source": [
    "print (r2_score(y_test,pred_test))"
   ]
  },
  {
   "cell_type": "markdown",
   "metadata": {},
   "source": [
    "# CROSS VALIDATION OF THE LINEAR REGRESSION MODEL"
   ]
  },
  {
   "cell_type": "code",
   "execution_count": 51,
   "metadata": {},
   "outputs": [
    {
     "name": "stdout",
     "output_type": "stream",
     "text": [
      "At cross fold 2 the cv score is 0.9042245206305917 and accuracy score for training is -0.9605039488604983 and accuracy for testing is 0.8996390781190254\n",
      "\n",
      "\n",
      "\n",
      "At cross fold 3 the cv score is 0.9005133366024932 and accuracy score for training is -0.9605039488604983 and accuracy for testing is 0.8996390781190254\n",
      "\n",
      "\n",
      "\n",
      "At cross fold 4 the cv score is 0.9010704953541404 and accuracy score for training is -0.9605039488604983 and accuracy for testing is 0.8996390781190254\n",
      "\n",
      "\n",
      "\n",
      "At cross fold 5 the cv score is 0.8978060430607071 and accuracy score for training is -0.9605039488604983 and accuracy for testing is 0.8996390781190254\n",
      "\n",
      "\n",
      "\n",
      "At cross fold 6 the cv score is 0.9020141622653224 and accuracy score for training is -0.9605039488604983 and accuracy for testing is 0.8996390781190254\n",
      "\n",
      "\n",
      "\n",
      "At cross fold 7 the cv score is 0.8982025458270028 and accuracy score for training is -0.9605039488604983 and accuracy for testing is 0.8996390781190254\n",
      "\n",
      "\n",
      "\n",
      "At cross fold 8 the cv score is 0.8958223041714927 and accuracy score for training is -0.9605039488604983 and accuracy for testing is 0.8996390781190254\n",
      "\n",
      "\n",
      "\n",
      "At cross fold 9 the cv score is 0.895873178203007 and accuracy score for training is -0.9605039488604983 and accuracy for testing is 0.8996390781190254\n",
      "\n",
      "\n",
      "\n"
     ]
    }
   ],
   "source": [
    "Train_accuracy=r2_score(y_train,pred_train)\n",
    "Test_accuracy=r2_score(y_test,pred_test)\n",
    "\n",
    "from sklearn.model_selection import cross_val_score\n",
    "\n",
    "for i in range(2,10):\n",
    "    cv_score=cross_val_score(lr,x,y,cv=i)\n",
    "    cv_mean=cv_score.mean()\n",
    "    print (f\"At cross fold {i} the cv score is {cv_mean} and accuracy score for training is {Train_accuracy} and accuracy for testing is {Test_accuracy}\")\n",
    "    print (\"\\n\\n\")"
   ]
  },
  {
   "cell_type": "markdown",
   "metadata": {},
   "source": [
    "**I will take cv 5 bcz it is near to r2_score accuracy bcz here the cv score is 90% and accuracy score is also 90%**"
   ]
  },
  {
   "cell_type": "raw",
   "metadata": {},
   "source": [
    "MAE : The mean absolute error (MAE) is a measure of errors between paired observations expressing the same phenomenon.\n",
    "MSE : The mean squared error tells you how close a regression line is to a set of points. It does this by taking the distances from the points to the regression line (these distances are the “errors”) and squaring them."
   ]
  },
  {
   "cell_type": "code",
   "execution_count": 52,
   "metadata": {},
   "outputs": [],
   "source": [
    "from sklearn import metrics"
   ]
  },
  {
   "cell_type": "code",
   "execution_count": 53,
   "metadata": {},
   "outputs": [],
   "source": [
    "MAE= metrics.mean_absolute_error(y_test,pred_test)\n",
    "MSE= metrics.mean_squared_error(y_test,pred_test)"
   ]
  },
  {
   "cell_type": "code",
   "execution_count": 54,
   "metadata": {},
   "outputs": [
    {
     "name": "stdout",
     "output_type": "stream",
     "text": [
      "mean absolute error: 1.2310394822806816\n",
      "mean squared error: 3.209827683125167\n"
     ]
    }
   ],
   "source": [
    "print(\"mean absolute error:\",MAE)\n",
    "print(\"mean squared error:\",MSE)"
   ]
  },
  {
   "cell_type": "raw",
   "metadata": {},
   "source": [
    "RMSE:\n",
    "RMSE is a measure of how spread out these residuals are. In other words, it tells you how concentrated the data is around the line of best fit."
   ]
  },
  {
   "cell_type": "code",
   "execution_count": 55,
   "metadata": {},
   "outputs": [
    {
     "name": "stdout",
     "output_type": "stream",
     "text": [
      "Root Mean Squared Error: 1.791599197121155\n"
     ]
    }
   ],
   "source": [
    "from math import sqrt\n",
    "rmse = sqrt(MSE)\n",
    "print(\"Root Mean Squared Error:\",rmse)"
   ]
  },
  {
   "cell_type": "code",
   "execution_count": 56,
   "metadata": {},
   "outputs": [
    {
     "data": {
      "image/png": "[encoded data removed]",
      "text/plain": [
       "<Figure size 1440x1440 with 1 Axes>"
      ]
     },
     "metadata": {
      "needs_background": "light"
     },
     "output_type": "display_data"
    }
   ],
   "source": [
    "import matplotlib.pyplot as plt\n",
    "plt.scatter (x=y_test,y=pred_test,color='r')\n",
    "\n",
    "plt.plot(y_test,y_test,color='b')\n",
    "\n",
    "plt.xlabel('Actual charges' ,fontsize=14)\n",
    "\n",
    "plt.ylabel('Predicted charges', fontsize=14)\n",
    "plt.title('Linear Regression' , fontsize=20)\n",
    "plt. show()"
   ]
  },
  {
   "cell_type": "markdown",
   "metadata": {},
   "source": [
    "**Here we can see that the data is falling on the best fit line which indicates that model is performing well**"
   ]
  },
  {
   "cell_type": "markdown",
   "metadata": {},
   "source": [
    "# Lets Train with other regressor model"
   ]
  },
  {
   "cell_type": "code",
   "execution_count": 57,
   "metadata": {},
   "outputs": [],
   "source": [
    "from sklearn.tree import DecisionTreeRegressor\n",
    "dt=DecisionTreeRegressor()"
   ]
  },
  {
   "cell_type": "code",
   "execution_count": 58,
   "metadata": {},
   "outputs": [],
   "source": [
    "for i in range(0,1000):\n",
    "    x_train,x_test,y_train,y_test=train_test_split(x,y,random_state=i,test_size=0.20)\n",
    "    dt.fit(x_train,y_train)\n",
    "    pred_train=dt.predict(x_train)\n",
    "    pred_test=dt.predict(x_test)\n",
    "    if round(r2_score(pred_train,y_train)*100,1)==round(r2_score(y_test,pred_test)*100,1):\n",
    "        print(\"At random state \",i,\" The model performs very well\")\n",
    "        print(\"At random_state:-\",i)\n",
    "        print(\"Training accuaracy_score is :-\",round(r2_score(y_train,pred_train)*100,1))\n",
    "        print(\"Testing accuracy_score is:-\",round(r2_score(y_test,pred_test)*100,1),  '\\n\\n')"
   ]
  },
  {
   "cell_type": "markdown",
   "metadata": {},
   "source": [
    "**So Here we can see that in DecisionTreeRegressor there is no random state where training and testing values are same**"
   ]
  },
  {
   "cell_type": "markdown",
   "metadata": {},
   "source": [
    "**so now let try with nearby training and testing score**"
   ]
  },
  {
   "cell_type": "code",
   "execution_count": 59,
   "metadata": {},
   "outputs": [
    {
     "name": "stdout",
     "output_type": "stream",
     "text": [
      "At random state 0,the training accuracy is :- 1.0\n",
      "At random state 0,the testing accuracy is :- 0.9258487052221888\n",
      "\n",
      "\n",
      "\n",
      "At random state 1,the training accuracy is :- 1.0\n",
      "At random state 1,the testing accuracy is :- 0.9620844915543104\n",
      "\n",
      "\n",
      "\n",
      "At random state 2,the training accuracy is :- 1.0\n",
      "At random state 2,the testing accuracy is :- 0.9562752693178962\n",
      "\n",
      "\n",
      "\n",
      "At random state 3,the training accuracy is :- 1.0\n",
      "At random state 3,the testing accuracy is :- 0.962655135831442\n",
      "\n",
      "\n",
      "\n",
      "At random state 4,the training accuracy is :- 1.0\n",
      "At random state 4,the testing accuracy is :- 0.9630025840978633\n",
      "\n",
      "\n",
      "\n",
      "At random state 5,the training accuracy is :- 1.0\n",
      "At random state 5,the testing accuracy is :- 0.9625890600376896\n",
      "\n",
      "\n",
      "\n",
      "At random state 6,the training accuracy is :- 1.0\n",
      "At random state 6,the testing accuracy is :- 0.9317582984662696\n",
      "\n",
      "\n",
      "\n",
      "At random state 7,the training accuracy is :- 1.0\n",
      "At random state 7,the testing accuracy is :- 0.9683787034244459\n",
      "\n",
      "\n",
      "\n",
      "At random state 8,the training accuracy is :- 1.0\n",
      "At random state 8,the testing accuracy is :- 0.9222078426758791\n",
      "\n",
      "\n",
      "\n",
      "At random state 9,the training accuracy is :- 1.0\n",
      "At random state 9,the testing accuracy is :- 0.9482629262288378\n",
      "\n",
      "\n",
      "\n",
      "At random state 10,the training accuracy is :- 1.0\n",
      "At random state 10,the testing accuracy is :- 0.9565720480932318\n",
      "\n",
      "\n",
      "\n",
      "At random state 11,the training accuracy is :- 1.0\n",
      "At random state 11,the testing accuracy is :- 0.9528796360358094\n",
      "\n",
      "\n",
      "\n",
      "At random state 12,the training accuracy is :- 1.0\n",
      "At random state 12,the testing accuracy is :- 0.960479007483812\n",
      "\n",
      "\n",
      "\n",
      "At random state 13,the training accuracy is :- 1.0\n",
      "At random state 13,the testing accuracy is :- 0.9686681263373992\n",
      "\n",
      "\n",
      "\n",
      "At random state 14,the training accuracy is :- 1.0\n",
      "At random state 14,the testing accuracy is :- 0.9553321921636271\n",
      "\n",
      "\n",
      "\n",
      "At random state 15,the training accuracy is :- 1.0\n",
      "At random state 15,the testing accuracy is :- 0.9724833424893844\n",
      "\n",
      "\n",
      "\n",
      "At random state 16,the training accuracy is :- 1.0\n",
      "At random state 16,the testing accuracy is :- 0.960004660176119\n",
      "\n",
      "\n",
      "\n",
      "At random state 17,the training accuracy is :- 1.0\n",
      "At random state 17,the testing accuracy is :- 0.9668623504750757\n",
      "\n",
      "\n",
      "\n",
      "At random state 18,the training accuracy is :- 1.0\n",
      "At random state 18,the testing accuracy is :- 0.9365331688336339\n",
      "\n",
      "\n",
      "\n",
      "At random state 19,the training accuracy is :- 1.0\n",
      "At random state 19,the testing accuracy is :- 0.9333255621069033\n",
      "\n",
      "\n",
      "\n",
      "At random state 20,the training accuracy is :- 1.0\n",
      "At random state 20,the testing accuracy is :- 0.9794559913347665\n",
      "\n",
      "\n",
      "\n",
      "At random state 21,the training accuracy is :- 1.0\n",
      "At random state 21,the testing accuracy is :- 0.9393461335278173\n",
      "\n",
      "\n",
      "\n",
      "At random state 22,the training accuracy is :- 1.0\n",
      "At random state 22,the testing accuracy is :- 0.9461057311630958\n",
      "\n",
      "\n",
      "\n",
      "At random state 23,the training accuracy is :- 1.0\n",
      "At random state 23,the testing accuracy is :- 0.9604436474253436\n",
      "\n",
      "\n",
      "\n",
      "At random state 24,the training accuracy is :- 1.0\n",
      "At random state 24,the testing accuracy is :- 0.9330040142180483\n",
      "\n",
      "\n",
      "\n",
      "At random state 25,the training accuracy is :- 1.0\n",
      "At random state 25,the testing accuracy is :- 0.9397633670399025\n",
      "\n",
      "\n",
      "\n",
      "At random state 26,the training accuracy is :- 1.0\n",
      "At random state 26,the testing accuracy is :- 0.8674051242355931\n",
      "\n",
      "\n",
      "\n",
      "At random state 27,the training accuracy is :- 1.0\n",
      "At random state 27,the testing accuracy is :- 0.958613994688471\n",
      "\n",
      "\n",
      "\n",
      "At random state 28,the training accuracy is :- 1.0\n",
      "At random state 28,the testing accuracy is :- 0.943395545003367\n",
      "\n",
      "\n",
      "\n",
      "At random state 29,the training accuracy is :- 1.0\n",
      "At random state 29,the testing accuracy is :- 0.9444240039412062\n",
      "\n",
      "\n",
      "\n",
      "At random state 30,the training accuracy is :- 1.0\n",
      "At random state 30,the testing accuracy is :- 0.9232174118209067\n",
      "\n",
      "\n",
      "\n",
      "At random state 31,the training accuracy is :- 1.0\n",
      "At random state 31,the testing accuracy is :- 0.9565838650572631\n",
      "\n",
      "\n",
      "\n",
      "At random state 32,the training accuracy is :- 1.0\n",
      "At random state 32,the testing accuracy is :- 0.9081827547760962\n",
      "\n",
      "\n",
      "\n",
      "At random state 33,the training accuracy is :- 1.0\n",
      "At random state 33,the testing accuracy is :- 0.9641526515796203\n",
      "\n",
      "\n",
      "\n",
      "At random state 34,the training accuracy is :- 1.0\n",
      "At random state 34,the testing accuracy is :- 0.9715703108486717\n",
      "\n",
      "\n",
      "\n",
      "At random state 35,the training accuracy is :- 1.0\n",
      "At random state 35,the testing accuracy is :- 0.9520361956100915\n",
      "\n",
      "\n",
      "\n",
      "At random state 36,the training accuracy is :- 1.0\n",
      "At random state 36,the testing accuracy is :- 0.967129476998605\n",
      "\n",
      "\n",
      "\n",
      "At random state 37,the training accuracy is :- 1.0\n",
      "At random state 37,the testing accuracy is :- 0.9627054386740419\n",
      "\n",
      "\n",
      "\n",
      "At random state 38,the training accuracy is :- 1.0\n",
      "At random state 38,the testing accuracy is :- 0.9692151193917978\n",
      "\n",
      "\n",
      "\n",
      "At random state 39,the training accuracy is :- 1.0\n",
      "At random state 39,the testing accuracy is :- 0.9568195732291791\n",
      "\n",
      "\n",
      "\n",
      "At random state 40,the training accuracy is :- 1.0\n",
      "At random state 40,the testing accuracy is :- 0.9389511688936559\n",
      "\n",
      "\n",
      "\n",
      "At random state 41,the training accuracy is :- 1.0\n",
      "At random state 41,the testing accuracy is :- 0.9370486721242357\n",
      "\n",
      "\n",
      "\n",
      "At random state 42,the training accuracy is :- 1.0\n",
      "At random state 42,the testing accuracy is :- 0.9489601845480602\n",
      "\n",
      "\n",
      "\n",
      "At random state 43,the training accuracy is :- 1.0\n",
      "At random state 43,the testing accuracy is :- 0.9764121243070627\n",
      "\n",
      "\n",
      "\n",
      "At random state 44,the training accuracy is :- 1.0\n",
      "At random state 44,the testing accuracy is :- 0.9312998153735309\n",
      "\n",
      "\n",
      "\n",
      "At random state 45,the training accuracy is :- 1.0\n",
      "At random state 45,the testing accuracy is :- 0.955648600180633\n",
      "\n",
      "\n",
      "\n",
      "At random state 46,the training accuracy is :- 1.0\n",
      "At random state 46,the testing accuracy is :- 0.8738990580135879\n",
      "\n",
      "\n",
      "\n",
      "At random state 47,the training accuracy is :- 1.0\n",
      "At random state 47,the testing accuracy is :- 0.9619849345568342\n",
      "\n",
      "\n",
      "\n",
      "At random state 48,the training accuracy is :- 1.0\n",
      "At random state 48,the testing accuracy is :- 0.9693838829860632\n",
      "\n",
      "\n",
      "\n",
      "At random state 49,the training accuracy is :- 1.0\n",
      "At random state 49,the testing accuracy is :- 0.9729661285942318\n",
      "\n",
      "\n",
      "\n",
      "At random state 50,the training accuracy is :- 1.0\n",
      "At random state 50,the testing accuracy is :- 0.9632143139337858\n",
      "\n",
      "\n",
      "\n",
      "At random state 51,the training accuracy is :- 1.0\n",
      "At random state 51,the testing accuracy is :- 0.9560092606927453\n",
      "\n",
      "\n",
      "\n",
      "At random state 52,the training accuracy is :- 1.0\n",
      "At random state 52,the testing accuracy is :- 0.9726202357100509\n",
      "\n",
      "\n",
      "\n",
      "At random state 53,the training accuracy is :- 1.0\n",
      "At random state 53,the testing accuracy is :- 0.9599893916827489\n",
      "\n",
      "\n",
      "\n",
      "At random state 54,the training accuracy is :- 1.0\n",
      "At random state 54,the testing accuracy is :- 0.9691791678758432\n",
      "\n",
      "\n",
      "\n",
      "At random state 55,the training accuracy is :- 1.0\n",
      "At random state 55,the testing accuracy is :- 0.9280025498476346\n",
      "\n",
      "\n",
      "\n",
      "At random state 56,the training accuracy is :- 1.0\n",
      "At random state 56,the testing accuracy is :- 0.9505536323310826\n",
      "\n",
      "\n",
      "\n",
      "At random state 57,the training accuracy is :- 1.0\n",
      "At random state 57,the testing accuracy is :- 0.9634193891053331\n",
      "\n",
      "\n",
      "\n",
      "At random state 58,the training accuracy is :- 1.0\n",
      "At random state 58,the testing accuracy is :- 0.9534268044908487\n",
      "\n",
      "\n",
      "\n",
      "At random state 59,the training accuracy is :- 1.0\n",
      "At random state 59,the testing accuracy is :- 0.9457649617909297\n",
      "\n",
      "\n",
      "\n",
      "At random state 60,the training accuracy is :- 1.0\n",
      "At random state 60,the testing accuracy is :- 0.90066313141114\n",
      "\n",
      "\n",
      "\n",
      "At random state 61,the training accuracy is :- 1.0\n",
      "At random state 61,the testing accuracy is :- 0.8958076365870834\n",
      "\n",
      "\n",
      "\n",
      "At random state 62,the training accuracy is :- 1.0\n",
      "At random state 62,the testing accuracy is :- 0.939768409005203\n",
      "\n",
      "\n",
      "\n",
      "At random state 63,the training accuracy is :- 1.0\n",
      "At random state 63,the testing accuracy is :- 0.9510477278537449\n",
      "\n",
      "\n",
      "\n",
      "At random state 64,the training accuracy is :- 1.0\n",
      "At random state 64,the testing accuracy is :- 0.9384582307992666\n",
      "\n",
      "\n",
      "\n",
      "At random state 65,the training accuracy is :- 1.0\n",
      "At random state 65,the testing accuracy is :- 0.9381743316666925\n",
      "\n",
      "\n",
      "\n",
      "At random state 66,the training accuracy is :- 1.0\n",
      "At random state 66,the testing accuracy is :- 0.9570394674488568\n",
      "\n",
      "\n",
      "\n",
      "At random state 67,the training accuracy is :- 1.0\n",
      "At random state 67,the testing accuracy is :- 0.9612120870023331\n",
      "\n",
      "\n",
      "\n",
      "At random state 68,the training accuracy is :- 1.0\n",
      "At random state 68,the testing accuracy is :- 0.9595155690057795\n",
      "\n",
      "\n",
      "\n",
      "At random state 69,the training accuracy is :- 1.0\n",
      "At random state 69,the testing accuracy is :- 0.9614545238200406\n",
      "\n",
      "\n",
      "\n",
      "At random state 70,the training accuracy is :- 1.0\n",
      "At random state 70,the testing accuracy is :- 0.9625320300306212\n",
      "\n",
      "\n",
      "\n",
      "At random state 71,the training accuracy is :- 1.0\n",
      "At random state 71,the testing accuracy is :- 0.9628088618986577\n",
      "\n",
      "\n",
      "\n",
      "At random state 72,the training accuracy is :- 1.0\n",
      "At random state 72,the testing accuracy is :- 0.9546870722468955\n",
      "\n",
      "\n",
      "\n",
      "At random state 73,the training accuracy is :- 1.0\n",
      "At random state 73,the testing accuracy is :- 0.9172081258528686\n",
      "\n",
      "\n",
      "\n",
      "At random state 74,the training accuracy is :- 1.0\n",
      "At random state 74,the testing accuracy is :- 0.9500421409278879\n",
      "\n",
      "\n",
      "\n",
      "At random state 75,the training accuracy is :- 1.0\n",
      "At random state 75,the testing accuracy is :- 0.9741845789281404\n",
      "\n",
      "\n",
      "\n",
      "At random state 76,the training accuracy is :- 1.0\n",
      "At random state 76,the testing accuracy is :- 0.905441224986633\n",
      "\n",
      "\n",
      "\n",
      "At random state 77,the training accuracy is :- 1.0\n",
      "At random state 77,the testing accuracy is :- 0.9559244506046316\n",
      "\n",
      "\n",
      "\n",
      "At random state 78,the training accuracy is :- 1.0\n",
      "At random state 78,the testing accuracy is :- 0.9198050019458839\n",
      "\n",
      "\n",
      "\n",
      "At random state 79,the training accuracy is :- 1.0\n",
      "At random state 79,the testing accuracy is :- 0.9654345488741967\n",
      "\n",
      "\n",
      "\n",
      "At random state 80,the training accuracy is :- 1.0\n",
      "At random state 80,the testing accuracy is :- 0.9675936897215152\n",
      "\n",
      "\n",
      "\n",
      "At random state 81,the training accuracy is :- 1.0\n",
      "At random state 81,the testing accuracy is :- 0.895953039103022\n",
      "\n",
      "\n",
      "\n",
      "At random state 82,the training accuracy is :- 1.0\n",
      "At random state 82,the testing accuracy is :- 0.900156415319757\n",
      "\n",
      "\n",
      "\n",
      "At random state 83,the training accuracy is :- 1.0\n",
      "At random state 83,the testing accuracy is :- 0.9687460236671332\n",
      "\n",
      "\n",
      "\n",
      "At random state 84,the training accuracy is :- 1.0\n",
      "At random state 84,the testing accuracy is :- 0.957293491622051\n",
      "\n",
      "\n",
      "\n",
      "At random state 85,the training accuracy is :- 1.0\n",
      "At random state 85,the testing accuracy is :- 0.9502882070276191\n",
      "\n",
      "\n",
      "\n",
      "At random state 86,the training accuracy is :- 1.0\n",
      "At random state 86,the testing accuracy is :- 0.9258477384342845\n",
      "\n",
      "\n",
      "\n",
      "At random state 87,the training accuracy is :- 1.0\n",
      "At random state 87,the testing accuracy is :- 0.9232281004379707\n",
      "\n",
      "\n",
      "\n",
      "At random state 88,the training accuracy is :- 1.0\n",
      "At random state 88,the testing accuracy is :- 0.9750690565487254\n",
      "\n",
      "\n",
      "\n",
      "At random state 89,the training accuracy is :- 1.0\n",
      "At random state 89,the testing accuracy is :- 0.9680748091991586\n",
      "\n",
      "\n",
      "\n",
      "At random state 90,the training accuracy is :- 1.0\n",
      "At random state 90,the testing accuracy is :- 0.907243709648223\n",
      "\n",
      "\n",
      "\n",
      "At random state 91,the training accuracy is :- 1.0\n",
      "At random state 91,the testing accuracy is :- 0.9569104514119415\n",
      "\n",
      "\n",
      "\n",
      "At random state 92,the training accuracy is :- 1.0\n",
      "At random state 92,the testing accuracy is :- 0.9582338334683381\n",
      "\n",
      "\n",
      "\n",
      "At random state 93,the training accuracy is :- 1.0\n",
      "At random state 93,the testing accuracy is :- 0.9004778207563644\n",
      "\n",
      "\n",
      "\n",
      "At random state 94,the training accuracy is :- 1.0\n",
      "At random state 94,the testing accuracy is :- 0.9358913203673974\n",
      "\n",
      "\n",
      "\n",
      "At random state 95,the training accuracy is :- 1.0\n",
      "At random state 95,the testing accuracy is :- 0.9429029245124156\n",
      "\n",
      "\n",
      "\n",
      "At random state 96,the training accuracy is :- 1.0\n",
      "At random state 96,the testing accuracy is :- 0.9542896525589555\n",
      "\n",
      "\n",
      "\n",
      "At random state 97,the training accuracy is :- 1.0\n",
      "At random state 97,the testing accuracy is :- 0.9615963246168756\n",
      "\n",
      "\n",
      "\n",
      "At random state 98,the training accuracy is :- 1.0\n",
      "At random state 98,the testing accuracy is :- 0.9696769921443136\n",
      "\n",
      "\n",
      "\n",
      "At random state 99,the training accuracy is :- 1.0\n",
      "At random state 99,the testing accuracy is :- 0.9367151567638419\n",
      "\n",
      "\n",
      "\n"
     ]
    }
   ],
   "source": [
    "for i in range(0,100):\n",
    "    x_train,x_test,y_train,y_test=train_test_split(x,y,test_size=0.2,random_state=i)\n",
    "    dt.fit(x_train,y_train)\n",
    "    pred_train=dt.predict(x_train)\n",
    "    pred_test=dt.predict(x_test)\n",
    "    print (f\"At random state {i},the training accuracy is :- {r2_score(y_train,pred_train)}\")\n",
    "    print (f\"At random state {i},the testing accuracy is :- {r2_score(y_test,pred_test)}\")\n",
    "    print (\"\\n\\n\")"
   ]
  },
  {
   "cell_type": "code",
   "execution_count": 61,
   "metadata": {},
   "outputs": [],
   "source": [
    "x_train,x_test,y_train,y_test=train_test_split(x,y,test_size=0.2,random_state=20)"
   ]
  },
  {
   "cell_type": "code",
   "execution_count": 62,
   "metadata": {},
   "outputs": [
    {
     "data": {
      "text/plain": [
       "DecisionTreeRegressor()"
      ]
     },
     "execution_count": 62,
     "metadata": {},
     "output_type": "execute_result"
    }
   ],
   "source": [
    "# train the model\n",
    "dt.fit(x_train,y_train)"
   ]
  },
  {
   "cell_type": "code",
   "execution_count": 63,
   "metadata": {},
   "outputs": [],
   "source": [
    "# predict the  data with x_test\n",
    "\n",
    "pred_test=dt.predict(x_test)"
   ]
  },
  {
   "cell_type": "code",
   "execution_count": 64,
   "metadata": {},
   "outputs": [
    {
     "name": "stdout",
     "output_type": "stream",
     "text": [
      "0.9658336695163938\n"
     ]
    }
   ],
   "source": [
    "print (r2_score(y_test,pred_test))"
   ]
  },
  {
   "cell_type": "markdown",
   "metadata": {},
   "source": [
    "# CROSS VALIDATION OF THE  DECISIONTREEREGRESSOR MODEL"
   ]
  },
  {
   "cell_type": "code",
   "execution_count": 66,
   "metadata": {},
   "outputs": [
    {
     "name": "stdout",
     "output_type": "stream",
     "text": [
      "At cross fold 2 the cv score is 0.9042245206305917 and accuracy score for training is -0.969723337748905 and accuracy for testing is 0.9658336695163938\n",
      "\n",
      "\n",
      "\n",
      "At cross fold 3 the cv score is 0.9005133366024932 and accuracy score for training is -0.969723337748905 and accuracy for testing is 0.9658336695163938\n",
      "\n",
      "\n",
      "\n",
      "At cross fold 4 the cv score is 0.9010704953541404 and accuracy score for training is -0.969723337748905 and accuracy for testing is 0.9658336695163938\n",
      "\n",
      "\n",
      "\n",
      "At cross fold 5 the cv score is 0.8978060430607071 and accuracy score for training is -0.969723337748905 and accuracy for testing is 0.9658336695163938\n",
      "\n",
      "\n",
      "\n",
      "At cross fold 6 the cv score is 0.9020141622653224 and accuracy score for training is -0.969723337748905 and accuracy for testing is 0.9658336695163938\n",
      "\n",
      "\n",
      "\n",
      "At cross fold 7 the cv score is 0.8982025458270028 and accuracy score for training is -0.969723337748905 and accuracy for testing is 0.9658336695163938\n",
      "\n",
      "\n",
      "\n",
      "At cross fold 8 the cv score is 0.8958223041714927 and accuracy score for training is -0.969723337748905 and accuracy for testing is 0.9658336695163938\n",
      "\n",
      "\n",
      "\n",
      "At cross fold 9 the cv score is 0.895873178203007 and accuracy score for training is -0.969723337748905 and accuracy for testing is 0.9658336695163938\n",
      "\n",
      "\n",
      "\n",
      "At cross fold 10 the cv score is 0.8967491708571848 and accuracy score for training is -0.969723337748905 and accuracy for testing is 0.9658336695163938\n",
      "\n",
      "\n",
      "\n",
      "At cross fold 11 the cv score is 0.8890849216332305 and accuracy score for training is -0.969723337748905 and accuracy for testing is 0.9658336695163938\n",
      "\n",
      "\n",
      "\n",
      "At cross fold 12 the cv score is 0.8963824963992718 and accuracy score for training is -0.969723337748905 and accuracy for testing is 0.9658336695163938\n",
      "\n",
      "\n",
      "\n",
      "At cross fold 13 the cv score is 0.8977538410718146 and accuracy score for training is -0.969723337748905 and accuracy for testing is 0.9658336695163938\n",
      "\n",
      "\n",
      "\n",
      "At cross fold 14 the cv score is 0.8882659931589066 and accuracy score for training is -0.969723337748905 and accuracy for testing is 0.9658336695163938\n",
      "\n",
      "\n",
      "\n",
      "At cross fold 15 the cv score is 0.8882669127208438 and accuracy score for training is -0.969723337748905 and accuracy for testing is 0.9658336695163938\n",
      "\n",
      "\n",
      "\n",
      "At cross fold 16 the cv score is 0.8938653580202727 and accuracy score for training is -0.969723337748905 and accuracy for testing is 0.9658336695163938\n",
      "\n",
      "\n",
      "\n",
      "At cross fold 17 the cv score is 0.8791692059666049 and accuracy score for training is -0.969723337748905 and accuracy for testing is 0.9658336695163938\n",
      "\n",
      "\n",
      "\n",
      "At cross fold 18 the cv score is 0.8931078445805025 and accuracy score for training is -0.969723337748905 and accuracy for testing is 0.9658336695163938\n",
      "\n",
      "\n",
      "\n",
      "At cross fold 19 the cv score is 0.8891115254397224 and accuracy score for training is -0.969723337748905 and accuracy for testing is 0.9658336695163938\n",
      "\n",
      "\n",
      "\n"
     ]
    }
   ],
   "source": [
    "Train_accuracy=r2_score(y_train,pred_train)\n",
    "Test_accuracy=r2_score(y_test,pred_test)\n",
    "\n",
    "from sklearn.model_selection import cross_val_score\n",
    "\n",
    "for i in range(2,20):\n",
    "    cv_score=cross_val_score(lr,x,y,cv=i)\n",
    "    cv_mean=cv_score.mean()\n",
    "    print (f\"At cross fold {i} the cv score is {cv_mean} and accuracy score for training is {Train_accuracy} and accuracy for testing is {Test_accuracy}\")\n",
    "    print (\"\\n\\n\")"
   ]
  },
  {
   "cell_type": "markdown",
   "metadata": {},
   "source": [
    "**Here i can see that there is lot of difference between cv score and accuracy score ,so this is not a good method**"
   ]
  },
  {
   "cell_type": "code",
   "execution_count": 67,
   "metadata": {},
   "outputs": [
    {
     "data": {
      "image/png": "[encoded data removed]",
      "text/plain": [
       "<Figure size 1440x1440 with 1 Axes>"
      ]
     },
     "metadata": {
      "needs_background": "light"
     },
     "output_type": "display_data"
    }
   ],
   "source": [
    "import matplotlib.pyplot as plt\n",
    "plt.scatter (x=y_test,y=pred_test,color='r')\n",
    "\n",
    "plt.plot(y_test,y_test,color='b')\n",
    "\n",
    "plt.xlabel('Actual charges' ,fontsize=14)\n",
    "\n",
    "plt.ylabel('Predicted charges', fontsize=14)\n",
    "plt.title('Linear Regression' , fontsize=20)\n",
    "plt. show()"
   ]
  },
  {
   "cell_type": "markdown",
   "metadata": {},
   "source": [
    "# Lets Train with Another Regressor Model"
   ]
  },
  {
   "cell_type": "code",
   "execution_count": 68,
   "metadata": {},
   "outputs": [],
   "source": [
    "from sklearn.svm import SVR\n",
    "sv=SVR()"
   ]
  },
  {
   "cell_type": "code",
   "execution_count": 69,
   "metadata": {},
   "outputs": [
    {
     "name": "stdout",
     "output_type": "stream",
     "text": [
      "At random state 0,the training accuracy is :- 0.9357016330216024\n",
      "At random state 0,the testing accuracy is :- 0.9024111956069574\n",
      "\n",
      "\n",
      "\n",
      "At random state 1,the training accuracy is :- 0.929940929504491\n",
      "At random state 1,the testing accuracy is :- 0.9651108971181077\n",
      "\n",
      "\n",
      "\n",
      "At random state 2,the training accuracy is :- 0.937910198189087\n",
      "At random state 2,the testing accuracy is :- 0.9163248881581868\n",
      "\n",
      "\n",
      "\n",
      "At random state 3,the training accuracy is :- 0.9402402539666365\n",
      "At random state 3,the testing accuracy is :- 0.8900058337020826\n",
      "\n",
      "\n",
      "\n",
      "At random state 4,the training accuracy is :- 0.9316936257359529\n",
      "At random state 4,the testing accuracy is :- 0.9183454487620117\n",
      "\n",
      "\n",
      "\n",
      "At random state 5,the training accuracy is :- 0.9273177313317091\n",
      "At random state 5,the testing accuracy is :- 0.9656004114812782\n",
      "\n",
      "\n",
      "\n",
      "At random state 6,the training accuracy is :- 0.9338531185379827\n",
      "At random state 6,the testing accuracy is :- 0.9417623196326521\n",
      "\n",
      "\n",
      "\n",
      "At random state 7,the training accuracy is :- 0.9372214014273546\n",
      "At random state 7,the testing accuracy is :- 0.8953331317686194\n",
      "\n",
      "\n",
      "\n",
      "At random state 8,the training accuracy is :- 0.9384818207299274\n",
      "At random state 8,the testing accuracy is :- 0.8554840496026743\n",
      "\n",
      "\n",
      "\n",
      "At random state 9,the training accuracy is :- 0.9297982653550054\n",
      "At random state 9,the testing accuracy is :- 0.9384076951105566\n",
      "\n",
      "\n",
      "\n",
      "At random state 10,the training accuracy is :- 0.920429755425321\n",
      "At random state 10,the testing accuracy is :- 0.8985813434572824\n",
      "\n",
      "\n",
      "\n",
      "At random state 11,the training accuracy is :- 0.9352748396841468\n",
      "At random state 11,the testing accuracy is :- 0.884172707369305\n",
      "\n",
      "\n",
      "\n",
      "At random state 12,the training accuracy is :- 0.9255406169408387\n",
      "At random state 12,the testing accuracy is :- 0.8915462754255821\n",
      "\n",
      "\n",
      "\n",
      "At random state 13,the training accuracy is :- 0.9331152185040569\n",
      "At random state 13,the testing accuracy is :- 0.8654198765177882\n",
      "\n",
      "\n",
      "\n",
      "At random state 14,the training accuracy is :- 0.9395659258246437\n",
      "At random state 14,the testing accuracy is :- 0.8987601642433796\n",
      "\n",
      "\n",
      "\n",
      "At random state 15,the training accuracy is :- 0.9231480041754202\n",
      "At random state 15,the testing accuracy is :- 0.9314526964206323\n",
      "\n",
      "\n",
      "\n",
      "At random state 16,the training accuracy is :- 0.9327371722787566\n",
      "At random state 16,the testing accuracy is :- 0.9545644362962958\n",
      "\n",
      "\n",
      "\n",
      "At random state 17,the training accuracy is :- 0.9402509834143272\n",
      "At random state 17,the testing accuracy is :- 0.9036252893957057\n",
      "\n",
      "\n",
      "\n",
      "At random state 18,the training accuracy is :- 0.9421488198359945\n",
      "At random state 18,the testing accuracy is :- 0.8864078178170791\n",
      "\n",
      "\n",
      "\n",
      "At random state 19,the training accuracy is :- 0.9355691062864641\n",
      "At random state 19,the testing accuracy is :- 0.8892022435177789\n",
      "\n",
      "\n",
      "\n",
      "At random state 20,the training accuracy is :- 0.9237710010134496\n",
      "At random state 20,the testing accuracy is :- 0.9178071426740305\n",
      "\n",
      "\n",
      "\n",
      "At random state 21,the training accuracy is :- 0.9265233946402702\n",
      "At random state 21,the testing accuracy is :- 0.8996034069638064\n",
      "\n",
      "\n",
      "\n",
      "At random state 22,the training accuracy is :- 0.9322679151009804\n",
      "At random state 22,the testing accuracy is :- 0.9002227733649206\n",
      "\n",
      "\n",
      "\n",
      "At random state 23,the training accuracy is :- 0.9354989329345141\n",
      "At random state 23,the testing accuracy is :- 0.9042002977740916\n",
      "\n",
      "\n",
      "\n",
      "At random state 24,the training accuracy is :- 0.9324565844803732\n",
      "At random state 24,the testing accuracy is :- 0.9284851682070401\n",
      "\n",
      "\n",
      "\n",
      "At random state 25,the training accuracy is :- 0.931394855266239\n",
      "At random state 25,the testing accuracy is :- 0.9245320442969853\n",
      "\n",
      "\n",
      "\n",
      "At random state 26,the training accuracy is :- 0.9345790219235508\n",
      "At random state 26,the testing accuracy is :- 0.9492924735326475\n",
      "\n",
      "\n",
      "\n",
      "At random state 27,the training accuracy is :- 0.9301909794111858\n",
      "At random state 27,the testing accuracy is :- 0.9311363482044307\n",
      "\n",
      "\n",
      "\n",
      "At random state 28,the training accuracy is :- 0.9278341640900563\n",
      "At random state 28,the testing accuracy is :- 0.9340332411074387\n",
      "\n",
      "\n",
      "\n",
      "At random state 29,the training accuracy is :- 0.9315630452983211\n",
      "At random state 29,the testing accuracy is :- 0.8321223294248978\n",
      "\n",
      "\n",
      "\n",
      "At random state 30,the training accuracy is :- 0.9330007686804931\n",
      "At random state 30,the testing accuracy is :- 0.8877632623732707\n",
      "\n",
      "\n",
      "\n",
      "At random state 31,the training accuracy is :- 0.9275249266548484\n",
      "At random state 31,the testing accuracy is :- 0.8927598384121529\n",
      "\n",
      "\n",
      "\n",
      "At random state 32,the training accuracy is :- 0.9411390506774931\n",
      "At random state 32,the testing accuracy is :- 0.8791112312297478\n",
      "\n",
      "\n",
      "\n",
      "At random state 33,the training accuracy is :- 0.9341862008775573\n",
      "At random state 33,the testing accuracy is :- 0.9403200349827763\n",
      "\n",
      "\n",
      "\n",
      "At random state 34,the training accuracy is :- 0.9252954261830031\n",
      "At random state 34,the testing accuracy is :- 0.9471114307451468\n",
      "\n",
      "\n",
      "\n",
      "At random state 35,the training accuracy is :- 0.9462302553375654\n",
      "At random state 35,the testing accuracy is :- 0.8875451697372203\n",
      "\n",
      "\n",
      "\n",
      "At random state 36,the training accuracy is :- 0.933211316643088\n",
      "At random state 36,the testing accuracy is :- 0.9076695267991234\n",
      "\n",
      "\n",
      "\n",
      "At random state 37,the training accuracy is :- 0.9369149668615478\n",
      "At random state 37,the testing accuracy is :- 0.9125448178092364\n",
      "\n",
      "\n",
      "\n",
      "At random state 38,the training accuracy is :- 0.9337694531434124\n",
      "At random state 38,the testing accuracy is :- 0.9856305624817339\n",
      "\n",
      "\n",
      "\n",
      "At random state 39,the training accuracy is :- 0.9386584620941161\n",
      "At random state 39,the testing accuracy is :- 0.8864542114567576\n",
      "\n",
      "\n",
      "\n",
      "At random state 40,the training accuracy is :- 0.9415169620490047\n",
      "At random state 40,the testing accuracy is :- 0.8837812788455661\n",
      "\n",
      "\n",
      "\n",
      "At random state 41,the training accuracy is :- 0.9370489082458316\n",
      "At random state 41,the testing accuracy is :- 0.8861464599469581\n",
      "\n",
      "\n",
      "\n",
      "At random state 42,the training accuracy is :- 0.9212021082976115\n",
      "At random state 42,the testing accuracy is :- 0.9213010847240078\n",
      "\n",
      "\n",
      "\n",
      "At random state 43,the training accuracy is :- 0.9308127174888344\n",
      "At random state 43,the testing accuracy is :- 0.9305931129176239\n",
      "\n",
      "\n",
      "\n",
      "At random state 44,the training accuracy is :- 0.9348133044634789\n",
      "At random state 44,the testing accuracy is :- 0.9684854571231538\n",
      "\n",
      "\n",
      "\n",
      "At random state 45,the training accuracy is :- 0.9298113692627772\n",
      "At random state 45,the testing accuracy is :- 0.97743603261358\n",
      "\n",
      "\n",
      "\n",
      "At random state 46,the training accuracy is :- 0.9378504989926638\n",
      "At random state 46,the testing accuracy is :- 0.9272912378333745\n",
      "\n",
      "\n",
      "\n",
      "At random state 47,the training accuracy is :- 0.9369561321668729\n",
      "At random state 47,the testing accuracy is :- 0.8975301915695101\n",
      "\n",
      "\n",
      "\n",
      "At random state 48,the training accuracy is :- 0.9319277583325849\n",
      "At random state 48,the testing accuracy is :- 0.9044393304047289\n",
      "\n",
      "\n",
      "\n",
      "At random state 49,the training accuracy is :- 0.9366860608161932\n",
      "At random state 49,the testing accuracy is :- 0.9128367641419254\n",
      "\n",
      "\n",
      "\n",
      "At random state 50,the training accuracy is :- 0.9394383078556056\n",
      "At random state 50,the testing accuracy is :- 0.9281995690995883\n",
      "\n",
      "\n",
      "\n",
      "At random state 51,the training accuracy is :- 0.9406555066548024\n",
      "At random state 51,the testing accuracy is :- 0.8763165986556323\n",
      "\n",
      "\n",
      "\n",
      "At random state 52,the training accuracy is :- 0.9293429084899947\n",
      "At random state 52,the testing accuracy is :- 0.8832119305996803\n",
      "\n",
      "\n",
      "\n",
      "At random state 53,the training accuracy is :- 0.9318029135182136\n",
      "At random state 53,the testing accuracy is :- 0.8800462684101297\n",
      "\n",
      "\n",
      "\n",
      "At random state 54,the training accuracy is :- 0.9255076482175651\n",
      "At random state 54,the testing accuracy is :- 0.918686399809557\n",
      "\n",
      "\n",
      "\n",
      "At random state 55,the training accuracy is :- 0.9291439470580457\n",
      "At random state 55,the testing accuracy is :- 0.914061660678217\n",
      "\n",
      "\n",
      "\n",
      "At random state 56,the training accuracy is :- 0.9296608449873098\n",
      "At random state 56,the testing accuracy is :- 0.9189657071915679\n",
      "\n",
      "\n",
      "\n",
      "At random state 57,the training accuracy is :- 0.9234107079148872\n",
      "At random state 57,the testing accuracy is :- 0.9439805774024043\n",
      "\n",
      "\n",
      "\n",
      "At random state 58,the training accuracy is :- 0.9411637596057693\n",
      "At random state 58,the testing accuracy is :- 0.8869319366256025\n",
      "\n",
      "\n",
      "\n",
      "At random state 59,the training accuracy is :- 0.9325072313465866\n",
      "At random state 59,the testing accuracy is :- 0.9171881323174604\n",
      "\n",
      "\n",
      "\n",
      "At random state 60,the training accuracy is :- 0.9205428476744599\n",
      "At random state 60,the testing accuracy is :- 0.9301429651264573\n",
      "\n",
      "\n",
      "\n",
      "At random state 61,the training accuracy is :- 0.9340650232624652\n",
      "At random state 61,the testing accuracy is :- 0.9656995356847264\n",
      "\n",
      "\n",
      "\n",
      "At random state 62,the training accuracy is :- 0.9442688932848438\n",
      "At random state 62,the testing accuracy is :- 0.8668171237600388\n",
      "\n",
      "\n",
      "\n",
      "At random state 63,the training accuracy is :- 0.9293844459539813\n",
      "At random state 63,the testing accuracy is :- 0.9635583004336231\n",
      "\n",
      "\n",
      "\n",
      "At random state 64,the training accuracy is :- 0.9252151298719586\n",
      "At random state 64,the testing accuracy is :- 0.9550578514709558\n",
      "\n",
      "\n",
      "\n",
      "At random state 65,the training accuracy is :- 0.9293788837317116\n",
      "At random state 65,the testing accuracy is :- 0.9423269386913985\n",
      "\n",
      "\n",
      "\n",
      "At random state 66,the training accuracy is :- 0.9403512742646297\n",
      "At random state 66,the testing accuracy is :- 0.8860861960579275\n",
      "\n",
      "\n",
      "\n",
      "At random state 67,the training accuracy is :- 0.9267235275404421\n",
      "At random state 67,the testing accuracy is :- 0.9425800549405255\n",
      "\n",
      "\n",
      "\n",
      "At random state 68,the training accuracy is :- 0.9343760645152299\n",
      "At random state 68,the testing accuracy is :- 0.9390830881210532\n",
      "\n",
      "\n",
      "\n",
      "At random state 69,the training accuracy is :- 0.9367056560783142\n",
      "At random state 69,the testing accuracy is :- 0.8945593508043762\n",
      "\n",
      "\n",
      "\n",
      "At random state 70,the training accuracy is :- 0.9220478827340625\n",
      "At random state 70,the testing accuracy is :- 0.9243222430245305\n",
      "\n",
      "\n",
      "\n",
      "At random state 71,the training accuracy is :- 0.9401654081316304\n",
      "At random state 71,the testing accuracy is :- 0.8884026627741016\n",
      "\n",
      "\n",
      "\n",
      "At random state 72,the training accuracy is :- 0.9376258247930092\n",
      "At random state 72,the testing accuracy is :- 0.9178278251603718\n",
      "\n",
      "\n",
      "\n",
      "At random state 73,the training accuracy is :- 0.9301052907590472\n",
      "At random state 73,the testing accuracy is :- 0.9479430416339061\n",
      "\n",
      "\n",
      "\n",
      "At random state 74,the training accuracy is :- 0.9308033593138101\n",
      "At random state 74,the testing accuracy is :- 0.8831456427272613\n",
      "\n",
      "\n",
      "\n",
      "At random state 75,the training accuracy is :- 0.9303048901772216\n",
      "At random state 75,the testing accuracy is :- 0.9250321837754525\n",
      "\n",
      "\n",
      "\n"
     ]
    },
    {
     "name": "stdout",
     "output_type": "stream",
     "text": [
      "At random state 76,the training accuracy is :- 0.9375541302352404\n",
      "At random state 76,the testing accuracy is :- 0.913439192949044\n",
      "\n",
      "\n",
      "\n",
      "At random state 77,the training accuracy is :- 0.9340601081432062\n",
      "At random state 77,the testing accuracy is :- 0.9240435375312495\n",
      "\n",
      "\n",
      "\n",
      "At random state 78,the training accuracy is :- 0.9377026997910084\n",
      "At random state 78,the testing accuracy is :- 0.8869555658063187\n",
      "\n",
      "\n",
      "\n",
      "At random state 79,the training accuracy is :- 0.9252055258831311\n",
      "At random state 79,the testing accuracy is :- 0.9065545396853483\n",
      "\n",
      "\n",
      "\n",
      "At random state 80,the training accuracy is :- 0.9387945985227576\n",
      "At random state 80,the testing accuracy is :- 0.9125269988055988\n",
      "\n",
      "\n",
      "\n",
      "At random state 81,the training accuracy is :- 0.9370575169131136\n",
      "At random state 81,the testing accuracy is :- 0.9273999577969766\n",
      "\n",
      "\n",
      "\n",
      "At random state 82,the training accuracy is :- 0.9410863016810307\n",
      "At random state 82,the testing accuracy is :- 0.9216947635905229\n",
      "\n",
      "\n",
      "\n",
      "At random state 83,the training accuracy is :- 0.9234378452413418\n",
      "At random state 83,the testing accuracy is :- 0.9425354597975248\n",
      "\n",
      "\n",
      "\n",
      "At random state 84,the training accuracy is :- 0.9321406438169156\n",
      "At random state 84,the testing accuracy is :- 0.9132771592504981\n",
      "\n",
      "\n",
      "\n",
      "At random state 85,the training accuracy is :- 0.9378061871355424\n",
      "At random state 85,the testing accuracy is :- 0.905603736779898\n",
      "\n",
      "\n",
      "\n",
      "At random state 86,the training accuracy is :- 0.9332804660269045\n",
      "At random state 86,the testing accuracy is :- 0.922393336810693\n",
      "\n",
      "\n",
      "\n",
      "At random state 87,the training accuracy is :- 0.9463675476294217\n",
      "At random state 87,the testing accuracy is :- 0.8300126370562857\n",
      "\n",
      "\n",
      "\n",
      "At random state 88,the training accuracy is :- 0.9363853015086314\n",
      "At random state 88,the testing accuracy is :- 0.9158596989301276\n",
      "\n",
      "\n",
      "\n",
      "At random state 89,the training accuracy is :- 0.9302780628883606\n",
      "At random state 89,the testing accuracy is :- 0.9253199168433515\n",
      "\n",
      "\n",
      "\n",
      "At random state 90,the training accuracy is :- 0.9335484862831449\n",
      "At random state 90,the testing accuracy is :- 0.9595143789783656\n",
      "\n",
      "\n",
      "\n",
      "At random state 91,the training accuracy is :- 0.9141713137352476\n",
      "At random state 91,the testing accuracy is :- 0.9093861426069704\n",
      "\n",
      "\n",
      "\n",
      "At random state 92,the training accuracy is :- 0.9295353518797062\n",
      "At random state 92,the testing accuracy is :- 0.8889603424301139\n",
      "\n",
      "\n",
      "\n",
      "At random state 93,the training accuracy is :- 0.9288195851995926\n",
      "At random state 93,the testing accuracy is :- 0.94324981322016\n",
      "\n",
      "\n",
      "\n",
      "At random state 94,the training accuracy is :- 0.945364931302822\n",
      "At random state 94,the testing accuracy is :- 0.8736223442009937\n",
      "\n",
      "\n",
      "\n",
      "At random state 95,the training accuracy is :- 0.9333713820862878\n",
      "At random state 95,the testing accuracy is :- 0.9092509314623213\n",
      "\n",
      "\n",
      "\n",
      "At random state 96,the training accuracy is :- 0.9343771245036014\n",
      "At random state 96,the testing accuracy is :- 0.9047408837175788\n",
      "\n",
      "\n",
      "\n",
      "At random state 97,the training accuracy is :- 0.9286352426151184\n",
      "At random state 97,the testing accuracy is :- 0.9144566627676322\n",
      "\n",
      "\n",
      "\n",
      "At random state 98,the training accuracy is :- 0.9295578950461438\n",
      "At random state 98,the testing accuracy is :- 0.9229872654144127\n",
      "\n",
      "\n",
      "\n",
      "At random state 99,the training accuracy is :- 0.9302813415833466\n",
      "At random state 99,the testing accuracy is :- 0.9239899529557035\n",
      "\n",
      "\n",
      "\n"
     ]
    }
   ],
   "source": [
    "for i in range(0,100):\n",
    "    x_train,x_test,y_train,y_test=train_test_split(x,y,test_size=0.2,random_state=i)\n",
    "    sv.fit(x_train,y_train)\n",
    "    pred_train=sv.predict(x_train)\n",
    "    pred_test=sv.predict(x_test)\n",
    "    print (f\"At random state {i},the training accuracy is :- {r2_score(y_train,pred_train)}\")\n",
    "    print (f\"At random state {i},the testing accuracy is :- {r2_score(y_test,pred_test)}\")\n",
    "    print (\"\\n\\n\")"
   ]
  },
  {
   "cell_type": "code",
   "execution_count": 71,
   "metadata": {},
   "outputs": [],
   "source": [
    "x_train,x_test,y_train,y_test=train_test_split(x,y,test_size=0.2,random_state=6)"
   ]
  },
  {
   "cell_type": "code",
   "execution_count": 72,
   "metadata": {},
   "outputs": [
    {
     "data": {
      "text/plain": [
       "SVR()"
      ]
     },
     "execution_count": 72,
     "metadata": {},
     "output_type": "execute_result"
    }
   ],
   "source": [
    "# train the model\n",
    "sv.fit(x_train,y_train)"
   ]
  },
  {
   "cell_type": "code",
   "execution_count": 73,
   "metadata": {},
   "outputs": [],
   "source": [
    "# predict the  data with x_test\n",
    "\n",
    "pred_test=sv.predict(x_test)"
   ]
  },
  {
   "cell_type": "code",
   "execution_count": 74,
   "metadata": {},
   "outputs": [
    {
     "name": "stdout",
     "output_type": "stream",
     "text": [
      "0.9417623196326521\n"
     ]
    }
   ],
   "source": [
    "print (r2_score(y_test,pred_test))"
   ]
  },
  {
   "cell_type": "markdown",
   "metadata": {},
   "source": [
    "# CROSS VALIDATION OF THE SVR MODEL"
   ]
  },
  {
   "cell_type": "code",
   "execution_count": 76,
   "metadata": {},
   "outputs": [
    {
     "name": "stdout",
     "output_type": "stream",
     "text": [
      "At cross fold 2 the cv score is 0.9042245206305917 and accuracy score for training is -0.8146981745836199 and accuracy for testing is 0.9417623196326521\n",
      "\n",
      "\n",
      "\n",
      "At cross fold 3 the cv score is 0.9005133366024932 and accuracy score for training is -0.8146981745836199 and accuracy for testing is 0.9417623196326521\n",
      "\n",
      "\n",
      "\n",
      "At cross fold 4 the cv score is 0.9010704953541404 and accuracy score for training is -0.8146981745836199 and accuracy for testing is 0.9417623196326521\n",
      "\n",
      "\n",
      "\n",
      "At cross fold 5 the cv score is 0.8978060430607071 and accuracy score for training is -0.8146981745836199 and accuracy for testing is 0.9417623196326521\n",
      "\n",
      "\n",
      "\n",
      "At cross fold 6 the cv score is 0.9020141622653224 and accuracy score for training is -0.8146981745836199 and accuracy for testing is 0.9417623196326521\n",
      "\n",
      "\n",
      "\n",
      "At cross fold 7 the cv score is 0.8982025458270028 and accuracy score for training is -0.8146981745836199 and accuracy for testing is 0.9417623196326521\n",
      "\n",
      "\n",
      "\n",
      "At cross fold 8 the cv score is 0.8958223041714927 and accuracy score for training is -0.8146981745836199 and accuracy for testing is 0.9417623196326521\n",
      "\n",
      "\n",
      "\n",
      "At cross fold 9 the cv score is 0.895873178203007 and accuracy score for training is -0.8146981745836199 and accuracy for testing is 0.9417623196326521\n",
      "\n",
      "\n",
      "\n",
      "At cross fold 10 the cv score is 0.8967491708571848 and accuracy score for training is -0.8146981745836199 and accuracy for testing is 0.9417623196326521\n",
      "\n",
      "\n",
      "\n",
      "At cross fold 11 the cv score is 0.8890849216332305 and accuracy score for training is -0.8146981745836199 and accuracy for testing is 0.9417623196326521\n",
      "\n",
      "\n",
      "\n",
      "At cross fold 12 the cv score is 0.8963824963992718 and accuracy score for training is -0.8146981745836199 and accuracy for testing is 0.9417623196326521\n",
      "\n",
      "\n",
      "\n",
      "At cross fold 13 the cv score is 0.8977538410718146 and accuracy score for training is -0.8146981745836199 and accuracy for testing is 0.9417623196326521\n",
      "\n",
      "\n",
      "\n",
      "At cross fold 14 the cv score is 0.8882659931589066 and accuracy score for training is -0.8146981745836199 and accuracy for testing is 0.9417623196326521\n",
      "\n",
      "\n",
      "\n",
      "At cross fold 15 the cv score is 0.8882669127208438 and accuracy score for training is -0.8146981745836199 and accuracy for testing is 0.9417623196326521\n",
      "\n",
      "\n",
      "\n",
      "At cross fold 16 the cv score is 0.8938653580202727 and accuracy score for training is -0.8146981745836199 and accuracy for testing is 0.9417623196326521\n",
      "\n",
      "\n",
      "\n",
      "At cross fold 17 the cv score is 0.8791692059666049 and accuracy score for training is -0.8146981745836199 and accuracy for testing is 0.9417623196326521\n",
      "\n",
      "\n",
      "\n",
      "At cross fold 18 the cv score is 0.8931078445805025 and accuracy score for training is -0.8146981745836199 and accuracy for testing is 0.9417623196326521\n",
      "\n",
      "\n",
      "\n",
      "At cross fold 19 the cv score is 0.8891115254397224 and accuracy score for training is -0.8146981745836199 and accuracy for testing is 0.9417623196326521\n",
      "\n",
      "\n",
      "\n"
     ]
    }
   ],
   "source": [
    "Train_accuracy=r2_score(y_train,pred_train)\n",
    "Test_accuracy=r2_score(y_test,pred_test)\n",
    "\n",
    "from sklearn.model_selection import cross_val_score\n",
    "\n",
    "for i in range(2,20):\n",
    "    cv_score=cross_val_score(lr,x,y,cv=i)\n",
    "    cv_mean=cv_score.mean()\n",
    "    print (f\"At cross fold {i} the cv score is {cv_mean} and accuracy score for training is {Train_accuracy} and accuracy for testing is {Test_accuracy}\")\n",
    "    print (\"\\n\\n\")"
   ]
  },
  {
   "cell_type": "markdown",
   "metadata": {},
   "source": [
    "###### Here i can see that there is lot of difference between cv score and accuracy score ,so this is not a good method"
   ]
  },
  {
   "cell_type": "code",
   "execution_count": 77,
   "metadata": {},
   "outputs": [
    {
     "data": {
      "image/png": "[encoded data removed]",
      "text/plain": [
       "<Figure size 1440x1440 with 1 Axes>"
      ]
     },
     "metadata": {
      "needs_background": "light"
     },
     "output_type": "display_data"
    }
   ],
   "source": [
    "import matplotlib.pyplot as plt\n",
    "plt.scatter (x=y_test,y=pred_test,color='r')\n",
    "\n",
    "plt.plot(y_test,y_test,color='b')\n",
    "\n",
    "plt.xlabel('Actual charges' ,fontsize=14)\n",
    "\n",
    "plt.ylabel('Predicted charges', fontsize=14)\n",
    "plt.title('Linear Regression' , fontsize=20)\n",
    "plt. show()"
   ]
  },
  {
   "cell_type": "markdown",
   "metadata": {},
   "source": [
    "# Let Try another model"
   ]
  },
  {
   "cell_type": "code",
   "execution_count": 78,
   "metadata": {},
   "outputs": [],
   "source": [
    "from sklearn.neighbors import KNeighborsRegressor\n",
    "knn=KNeighborsRegressor()"
   ]
  },
  {
   "cell_type": "code",
   "execution_count": 79,
   "metadata": {},
   "outputs": [
    {
     "name": "stdout",
     "output_type": "stream",
     "text": [
      "At random state 0,the training accuracy is :- 0.960404181154282\n",
      "At random state 0,the testing accuracy is :- 0.9281455364141923\n",
      "\n",
      "\n",
      "\n",
      "At random state 1,the training accuracy is :- 0.9604341918276134\n",
      "At random state 1,the testing accuracy is :- 0.9573854988995149\n",
      "\n",
      "\n",
      "\n",
      "At random state 2,the training accuracy is :- 0.9601302135950431\n",
      "At random state 2,the testing accuracy is :- 0.9312311862705153\n",
      "\n",
      "\n",
      "\n",
      "At random state 3,the training accuracy is :- 0.9593275552161428\n",
      "At random state 3,the testing accuracy is :- 0.9381599453328796\n",
      "\n",
      "\n",
      "\n",
      "At random state 4,the training accuracy is :- 0.9604455345798537\n",
      "At random state 4,the testing accuracy is :- 0.933141164624842\n",
      "\n",
      "\n",
      "\n",
      "At random state 5,the training accuracy is :- 0.9589070920957785\n",
      "At random state 5,the testing accuracy is :- 0.9671834977735613\n",
      "\n",
      "\n",
      "\n",
      "At random state 6,the training accuracy is :- 0.9603383908034133\n",
      "At random state 6,the testing accuracy is :- 0.9328441959870558\n",
      "\n",
      "\n",
      "\n",
      "At random state 7,the training accuracy is :- 0.9612773258513269\n",
      "At random state 7,the testing accuracy is :- 0.9509142901824111\n",
      "\n",
      "\n",
      "\n",
      "At random state 8,the training accuracy is :- 0.9620857761757488\n",
      "At random state 8,the testing accuracy is :- 0.902226452898667\n",
      "\n",
      "\n",
      "\n",
      "At random state 9,the training accuracy is :- 0.9567582698033328\n",
      "At random state 9,the testing accuracy is :- 0.9485987918056294\n",
      "\n",
      "\n",
      "\n",
      "At random state 10,the training accuracy is :- 0.9608215502856955\n",
      "At random state 10,the testing accuracy is :- 0.9097447993568731\n",
      "\n",
      "\n",
      "\n",
      "At random state 11,the training accuracy is :- 0.961180127170856\n",
      "At random state 11,the testing accuracy is :- 0.9068554775831963\n",
      "\n",
      "\n",
      "\n",
      "At random state 12,the training accuracy is :- 0.9527887215174298\n",
      "At random state 12,the testing accuracy is :- 0.9607000017872254\n",
      "\n",
      "\n",
      "\n",
      "At random state 13,the training accuracy is :- 0.9587250143591036\n",
      "At random state 13,the testing accuracy is :- 0.9340254214488818\n",
      "\n",
      "\n",
      "\n",
      "At random state 14,the training accuracy is :- 0.966727791957254\n",
      "At random state 14,the testing accuracy is :- 0.9238098995376144\n",
      "\n",
      "\n",
      "\n",
      "At random state 15,the training accuracy is :- 0.9506433120849201\n",
      "At random state 15,the testing accuracy is :- 0.9469561173844413\n",
      "\n",
      "\n",
      "\n",
      "At random state 16,the training accuracy is :- 0.9601331282079136\n",
      "At random state 16,the testing accuracy is :- 0.9403480156813304\n",
      "\n",
      "\n",
      "\n",
      "At random state 17,the training accuracy is :- 0.9691348345588235\n",
      "At random state 17,the testing accuracy is :- 0.9189881932790673\n",
      "\n",
      "\n",
      "\n",
      "At random state 18,the training accuracy is :- 0.9683028310575782\n",
      "At random state 18,the testing accuracy is :- 0.9052197020024675\n",
      "\n",
      "\n",
      "\n",
      "At random state 19,the training accuracy is :- 0.9623280045191474\n",
      "At random state 19,the testing accuracy is :- 0.9067127063355707\n",
      "\n",
      "\n",
      "\n",
      "At random state 20,the training accuracy is :- 0.9518094110545522\n",
      "At random state 20,the testing accuracy is :- 0.9548504307748421\n",
      "\n",
      "\n",
      "\n",
      "At random state 21,the training accuracy is :- 0.9604761665084722\n",
      "At random state 21,the testing accuracy is :- 0.9487463179039928\n",
      "\n",
      "\n",
      "\n",
      "At random state 22,the training accuracy is :- 0.9607467136314395\n",
      "At random state 22,the testing accuracy is :- 0.9155224108056891\n",
      "\n",
      "\n",
      "\n",
      "At random state 23,the training accuracy is :- 0.9611844342194414\n",
      "At random state 23,the testing accuracy is :- 0.9618816259428523\n",
      "\n",
      "\n",
      "\n",
      "At random state 24,the training accuracy is :- 0.9587975171014738\n",
      "At random state 24,the testing accuracy is :- 0.9693725013750133\n",
      "\n",
      "\n",
      "\n",
      "At random state 25,the training accuracy is :- 0.9610528272744688\n",
      "At random state 25,the testing accuracy is :- 0.9525587628292813\n",
      "\n",
      "\n",
      "\n",
      "At random state 26,the training accuracy is :- 0.9585122574734385\n",
      "At random state 26,the testing accuracy is :- 0.9410588548697667\n",
      "\n",
      "\n",
      "\n",
      "At random state 27,the training accuracy is :- 0.9536397365356322\n",
      "At random state 27,the testing accuracy is :- 0.9647349776907573\n",
      "\n",
      "\n",
      "\n",
      "At random state 28,the training accuracy is :- 0.9558516874339269\n",
      "At random state 28,the testing accuracy is :- 0.9514919475003507\n",
      "\n",
      "\n",
      "\n",
      "At random state 29,the training accuracy is :- 0.9554791058095597\n",
      "At random state 29,the testing accuracy is :- 0.9226639845558883\n",
      "\n",
      "\n",
      "\n",
      "At random state 30,the training accuracy is :- 0.9545846776586481\n",
      "At random state 30,the testing accuracy is :- 0.948800255254828\n",
      "\n",
      "\n",
      "\n",
      "At random state 31,the training accuracy is :- 0.9541121199680324\n",
      "At random state 31,the testing accuracy is :- 0.9345725111243655\n",
      "\n",
      "\n",
      "\n",
      "At random state 32,the training accuracy is :- 0.9661628456479272\n",
      "At random state 32,the testing accuracy is :- 0.9135301949014202\n",
      "\n",
      "\n",
      "\n",
      "At random state 33,the training accuracy is :- 0.958194201793205\n",
      "At random state 33,the testing accuracy is :- 0.959383684193213\n",
      "\n",
      "\n",
      "\n",
      "At random state 34,the training accuracy is :- 0.9544777986390602\n",
      "At random state 34,the testing accuracy is :- 0.9636837668664436\n",
      "\n",
      "\n",
      "\n",
      "At random state 35,the training accuracy is :- 0.9710434254917242\n",
      "At random state 35,the testing accuracy is :- 0.8876334134013689\n",
      "\n",
      "\n",
      "\n",
      "At random state 36,the training accuracy is :- 0.9581683163501444\n",
      "At random state 36,the testing accuracy is :- 0.9339678296548488\n",
      "\n",
      "\n",
      "\n",
      "At random state 37,the training accuracy is :- 0.9592423048309089\n",
      "At random state 37,the testing accuracy is :- 0.9608082545826713\n",
      "\n",
      "\n",
      "\n",
      "At random state 38,the training accuracy is :- 0.963112341398892\n",
      "At random state 38,the testing accuracy is :- 0.9613595504984755\n",
      "\n",
      "\n",
      "\n",
      "At random state 39,the training accuracy is :- 0.9606640390136516\n",
      "At random state 39,the testing accuracy is :- 0.9400070069754274\n",
      "\n",
      "\n",
      "\n",
      "At random state 40,the training accuracy is :- 0.9698304271109035\n",
      "At random state 40,the testing accuracy is :- 0.9077082107812763\n",
      "\n",
      "\n",
      "\n",
      "At random state 41,the training accuracy is :- 0.9709425596297062\n",
      "At random state 41,the testing accuracy is :- 0.9058994224790426\n",
      "\n",
      "\n",
      "\n",
      "At random state 42,the training accuracy is :- 0.9573239192250229\n",
      "At random state 42,the testing accuracy is :- 0.9388808506635908\n",
      "\n",
      "\n",
      "\n",
      "At random state 43,the training accuracy is :- 0.9538489579217347\n",
      "At random state 43,the testing accuracy is :- 0.9535270214053893\n",
      "\n",
      "\n",
      "\n",
      "At random state 44,the training accuracy is :- 0.9629180043900971\n",
      "At random state 44,the testing accuracy is :- 0.8980569189895078\n",
      "\n",
      "\n",
      "\n",
      "At random state 45,the training accuracy is :- 0.9593123459721767\n",
      "At random state 45,the testing accuracy is :- 0.9588663324116593\n",
      "\n",
      "\n",
      "\n",
      "At random state 46,the training accuracy is :- 0.9615015463460512\n",
      "At random state 46,the testing accuracy is :- 0.9511318242772674\n",
      "\n",
      "\n",
      "\n",
      "At random state 47,the training accuracy is :- 0.9587244958745204\n",
      "At random state 47,the testing accuracy is :- 0.9334986477200384\n",
      "\n",
      "\n",
      "\n",
      "At random state 48,the training accuracy is :- 0.9530378012154609\n",
      "At random state 48,the testing accuracy is :- 0.951248102663171\n",
      "\n",
      "\n",
      "\n",
      "At random state 49,the training accuracy is :- 0.9650223940104657\n",
      "At random state 49,the testing accuracy is :- 0.9240521472287188\n",
      "\n",
      "\n",
      "\n",
      "At random state 50,the training accuracy is :- 0.9624804344537706\n",
      "At random state 50,the testing accuracy is :- 0.9617829205552093\n",
      "\n",
      "\n",
      "\n",
      "At random state 51,the training accuracy is :- 0.9608749666549788\n",
      "At random state 51,the testing accuracy is :- 0.8698292039412089\n",
      "\n",
      "\n",
      "\n",
      "At random state 52,the training accuracy is :- 0.9610384417760106\n",
      "At random state 52,the testing accuracy is :- 0.9266085149251486\n",
      "\n",
      "\n",
      "\n",
      "At random state 53,the training accuracy is :- 0.961490272138403\n",
      "At random state 53,the testing accuracy is :- 0.9070017646880687\n",
      "\n",
      "\n",
      "\n",
      "At random state 54,the training accuracy is :- 0.9579015708688791\n",
      "At random state 54,the testing accuracy is :- 0.9610059965577976\n",
      "\n",
      "\n",
      "\n",
      "At random state 55,the training accuracy is :- 0.9610064041480363\n",
      "At random state 55,the testing accuracy is :- 0.9585089746097532\n",
      "\n",
      "\n",
      "\n",
      "At random state 56,the training accuracy is :- 0.9547540367361286\n",
      "At random state 56,the testing accuracy is :- 0.9531592356267626\n",
      "\n",
      "\n",
      "\n",
      "At random state 57,the training accuracy is :- 0.9535017232659968\n",
      "At random state 57,the testing accuracy is :- 0.9443922522174021\n",
      "\n",
      "\n",
      "\n",
      "At random state 58,the training accuracy is :- 0.9696186999201357\n",
      "At random state 58,the testing accuracy is :- 0.9080923131969706\n",
      "\n",
      "\n",
      "\n",
      "At random state 59,the training accuracy is :- 0.9536685266928496\n",
      "At random state 59,the testing accuracy is :- 0.9517385167092918\n",
      "\n",
      "\n",
      "\n",
      "At random state 60,the training accuracy is :- 0.9536613639236149\n",
      "At random state 60,the testing accuracy is :- 0.9565723424103771\n",
      "\n",
      "\n",
      "\n",
      "At random state 61,the training accuracy is :- 0.9609303327458962\n",
      "At random state 61,the testing accuracy is :- 0.9584438573750222\n",
      "\n",
      "\n",
      "\n",
      "At random state 62,the training accuracy is :- 0.9652193149512666\n",
      "At random state 62,the testing accuracy is :- 0.8896788994082528\n",
      "\n",
      "\n",
      "\n",
      "At random state 63,the training accuracy is :- 0.9594554509587226\n",
      "At random state 63,the testing accuracy is :- 0.9697782714049987\n",
      "\n",
      "\n",
      "\n",
      "At random state 64,the training accuracy is :- 0.9527056884653077\n",
      "At random state 64,the testing accuracy is :- 0.9629011199521317\n",
      "\n",
      "\n",
      "\n",
      "At random state 65,the training accuracy is :- 0.9595365448661177\n",
      "At random state 65,the testing accuracy is :- 0.9322660639928174\n",
      "\n",
      "\n",
      "\n",
      "At random state 66,the training accuracy is :- 0.9636442893607826\n",
      "At random state 66,the testing accuracy is :- 0.9138675715789031\n",
      "\n",
      "\n",
      "\n",
      "At random state 67,the training accuracy is :- 0.9569057986969363\n",
      "At random state 67,the testing accuracy is :- 0.9627993527508091\n",
      "\n",
      "\n",
      "\n",
      "At random state 68,the training accuracy is :- 0.9585001574716087\n",
      "At random state 68,the testing accuracy is :- 0.9341575125259854\n",
      "\n",
      "\n",
      "\n",
      "At random state 69,the training accuracy is :- 0.9534073054222606\n",
      "At random state 69,the testing accuracy is :- 0.9429184406209463\n",
      "\n",
      "\n",
      "\n",
      "At random state 70,the training accuracy is :- 0.9554194741539515\n",
      "At random state 70,the testing accuracy is :- 0.9607013778997385\n",
      "\n",
      "\n",
      "\n",
      "At random state 71,the training accuracy is :- 0.9617295332103244\n",
      "At random state 71,the testing accuracy is :- 0.9162010613080873\n",
      "\n",
      "\n",
      "\n",
      "At random state 72,the training accuracy is :- 0.9601497328610455\n",
      "At random state 72,the testing accuracy is :- 0.9300180127137585\n",
      "\n",
      "\n",
      "\n",
      "At random state 73,the training accuracy is :- 0.9604371566594032\n",
      "At random state 73,the testing accuracy is :- 0.959488068964325\n",
      "\n",
      "\n",
      "\n",
      "At random state 74,the training accuracy is :- 0.9602401571933403\n",
      "At random state 74,the testing accuracy is :- 0.9311264049710357\n",
      "\n",
      "\n",
      "\n",
      "At random state 75,the training accuracy is :- 0.9599453190107903\n",
      "At random state 75,the testing accuracy is :- 0.9546657753565333\n",
      "\n",
      "\n",
      "\n"
     ]
    },
    {
     "name": "stdout",
     "output_type": "stream",
     "text": [
      "At random state 76,the training accuracy is :- 0.9587496312389837\n",
      "At random state 76,the testing accuracy is :- 0.9234661843168037\n",
      "\n",
      "\n",
      "\n",
      "At random state 77,the training accuracy is :- 0.9604759707929607\n",
      "At random state 77,the testing accuracy is :- 0.9415141517238375\n",
      "\n",
      "\n",
      "\n",
      "At random state 78,the training accuracy is :- 0.9640960124489399\n",
      "At random state 78,the testing accuracy is :- 0.9019381550289152\n",
      "\n",
      "\n",
      "\n",
      "At random state 79,the training accuracy is :- 0.952199779607895\n",
      "At random state 79,the testing accuracy is :- 0.9600716104765263\n",
      "\n",
      "\n",
      "\n",
      "At random state 80,the training accuracy is :- 0.9664442606061454\n",
      "At random state 80,the testing accuracy is :- 0.9187415251107874\n",
      "\n",
      "\n",
      "\n",
      "At random state 81,the training accuracy is :- 0.9646625712602352\n",
      "At random state 81,the testing accuracy is :- 0.9335900860328602\n",
      "\n",
      "\n",
      "\n",
      "At random state 82,the training accuracy is :- 0.9736737832971831\n",
      "At random state 82,the testing accuracy is :- 0.9094461131029149\n",
      "\n",
      "\n",
      "\n",
      "At random state 83,the training accuracy is :- 0.9557553404639652\n",
      "At random state 83,the testing accuracy is :- 0.9470482885863342\n",
      "\n",
      "\n",
      "\n",
      "At random state 84,the training accuracy is :- 0.9643313350870217\n",
      "At random state 84,the testing accuracy is :- 0.9244244881957291\n",
      "\n",
      "\n",
      "\n",
      "At random state 85,the training accuracy is :- 0.9660180185841714\n",
      "At random state 85,the testing accuracy is :- 0.9097076056514672\n",
      "\n",
      "\n",
      "\n",
      "At random state 86,the training accuracy is :- 0.9575514426176441\n",
      "At random state 86,the testing accuracy is :- 0.9485953054236527\n",
      "\n",
      "\n",
      "\n",
      "At random state 87,the training accuracy is :- 0.9697406677343584\n",
      "At random state 87,the testing accuracy is :- 0.8539790230054756\n",
      "\n",
      "\n",
      "\n",
      "At random state 88,the training accuracy is :- 0.9668697770870422\n",
      "At random state 88,the testing accuracy is :- 0.9157870564263765\n",
      "\n",
      "\n",
      "\n",
      "At random state 89,the training accuracy is :- 0.9543736116228411\n",
      "At random state 89,the testing accuracy is :- 0.9629825745323328\n",
      "\n",
      "\n",
      "\n",
      "At random state 90,the training accuracy is :- 0.9617435540270349\n",
      "At random state 90,the testing accuracy is :- 0.9258040185844446\n",
      "\n",
      "\n",
      "\n",
      "At random state 91,the training accuracy is :- 0.9571801382730424\n",
      "At random state 91,the testing accuracy is :- 0.9598616262410958\n",
      "\n",
      "\n",
      "\n",
      "At random state 92,the training accuracy is :- 0.9560430768593096\n",
      "At random state 92,the testing accuracy is :- 0.9506489033649487\n",
      "\n",
      "\n",
      "\n",
      "At random state 93,the training accuracy is :- 0.9531198685062803\n",
      "At random state 93,the testing accuracy is :- 0.9552386405126387\n",
      "\n",
      "\n",
      "\n",
      "At random state 94,the training accuracy is :- 0.9648523321253826\n",
      "At random state 94,the testing accuracy is :- 0.9132859173092612\n",
      "\n",
      "\n",
      "\n",
      "At random state 95,the training accuracy is :- 0.9592053459695365\n",
      "At random state 95,the testing accuracy is :- 0.9399935780171552\n",
      "\n",
      "\n",
      "\n",
      "At random state 96,the training accuracy is :- 0.9586807483408497\n",
      "At random state 96,the testing accuracy is :- 0.9511579892063249\n",
      "\n",
      "\n",
      "\n",
      "At random state 97,the training accuracy is :- 0.9590262079872238\n",
      "At random state 97,the testing accuracy is :- 0.9462224960805581\n",
      "\n",
      "\n",
      "\n",
      "At random state 98,the training accuracy is :- 0.9575619018933955\n",
      "At random state 98,the testing accuracy is :- 0.9187174199043782\n",
      "\n",
      "\n",
      "\n",
      "At random state 99,the training accuracy is :- 0.9547002102347087\n",
      "At random state 99,the testing accuracy is :- 0.9316391057224557\n",
      "\n",
      "\n",
      "\n"
     ]
    }
   ],
   "source": [
    "for i in range(0,100):\n",
    "    x_train,x_test,y_train,y_test=train_test_split(x,y,test_size=0.2,random_state=i)\n",
    "    knn.fit(x_train,y_train)\n",
    "    pred_train=knn.predict(x_train)\n",
    "    pred_test=knn.predict(x_test)\n",
    "    print (f\"At random state {i},the training accuracy is :- {r2_score(y_train,pred_train)}\")\n",
    "    print (f\"At random state {i},the testing accuracy is :- {r2_score(y_test,pred_test)}\")\n",
    "    print (\"\\n\\n\")"
   ]
  },
  {
   "cell_type": "code",
   "execution_count": 80,
   "metadata": {},
   "outputs": [],
   "source": [
    "x_train,x_test,y_train,y_test=train_test_split(x,y,test_size=0.2,random_state=23)"
   ]
  },
  {
   "cell_type": "code",
   "execution_count": 81,
   "metadata": {},
   "outputs": [
    {
     "data": {
      "text/plain": [
       "KNeighborsRegressor()"
      ]
     },
     "execution_count": 81,
     "metadata": {},
     "output_type": "execute_result"
    }
   ],
   "source": [
    "# train the model\n",
    "knn.fit(x_train,y_train)"
   ]
  },
  {
   "cell_type": "code",
   "execution_count": 82,
   "metadata": {},
   "outputs": [],
   "source": [
    "# predict the  data with x_test\n",
    "\n",
    "pred_test=knn.predict(x_test)"
   ]
  },
  {
   "cell_type": "code",
   "execution_count": 83,
   "metadata": {},
   "outputs": [
    {
     "name": "stdout",
     "output_type": "stream",
     "text": [
      "0.9618816259428523\n"
     ]
    }
   ],
   "source": [
    "print (r2_score(y_test,pred_test))"
   ]
  },
  {
   "cell_type": "markdown",
   "metadata": {},
   "source": [
    "# CROSS VALIDATION OF THE LINEAR REGRESSION MODEL"
   ]
  },
  {
   "cell_type": "code",
   "execution_count": 85,
   "metadata": {},
   "outputs": [
    {
     "name": "stdout",
     "output_type": "stream",
     "text": [
      "At cross fold 2 the cv score is 0.9042245206305917 and accuracy score for training is -1.1314189470606086 and accuracy for testing is 0.9618816259428523\n",
      "\n",
      "\n",
      "\n",
      "At cross fold 3 the cv score is 0.9005133366024932 and accuracy score for training is -1.1314189470606086 and accuracy for testing is 0.9618816259428523\n",
      "\n",
      "\n",
      "\n",
      "At cross fold 4 the cv score is 0.9010704953541404 and accuracy score for training is -1.1314189470606086 and accuracy for testing is 0.9618816259428523\n",
      "\n",
      "\n",
      "\n",
      "At cross fold 5 the cv score is 0.8978060430607071 and accuracy score for training is -1.1314189470606086 and accuracy for testing is 0.9618816259428523\n",
      "\n",
      "\n",
      "\n",
      "At cross fold 6 the cv score is 0.9020141622653224 and accuracy score for training is -1.1314189470606086 and accuracy for testing is 0.9618816259428523\n",
      "\n",
      "\n",
      "\n",
      "At cross fold 7 the cv score is 0.8982025458270028 and accuracy score for training is -1.1314189470606086 and accuracy for testing is 0.9618816259428523\n",
      "\n",
      "\n",
      "\n",
      "At cross fold 8 the cv score is 0.8958223041714927 and accuracy score for training is -1.1314189470606086 and accuracy for testing is 0.9618816259428523\n",
      "\n",
      "\n",
      "\n",
      "At cross fold 9 the cv score is 0.895873178203007 and accuracy score for training is -1.1314189470606086 and accuracy for testing is 0.9618816259428523\n",
      "\n",
      "\n",
      "\n",
      "At cross fold 10 the cv score is 0.8967491708571848 and accuracy score for training is -1.1314189470606086 and accuracy for testing is 0.9618816259428523\n",
      "\n",
      "\n",
      "\n",
      "At cross fold 11 the cv score is 0.8890849216332305 and accuracy score for training is -1.1314189470606086 and accuracy for testing is 0.9618816259428523\n",
      "\n",
      "\n",
      "\n",
      "At cross fold 12 the cv score is 0.8963824963992718 and accuracy score for training is -1.1314189470606086 and accuracy for testing is 0.9618816259428523\n",
      "\n",
      "\n",
      "\n",
      "At cross fold 13 the cv score is 0.8977538410718146 and accuracy score for training is -1.1314189470606086 and accuracy for testing is 0.9618816259428523\n",
      "\n",
      "\n",
      "\n",
      "At cross fold 14 the cv score is 0.8882659931589066 and accuracy score for training is -1.1314189470606086 and accuracy for testing is 0.9618816259428523\n",
      "\n",
      "\n",
      "\n",
      "At cross fold 15 the cv score is 0.8882669127208438 and accuracy score for training is -1.1314189470606086 and accuracy for testing is 0.9618816259428523\n",
      "\n",
      "\n",
      "\n",
      "At cross fold 16 the cv score is 0.8938653580202727 and accuracy score for training is -1.1314189470606086 and accuracy for testing is 0.9618816259428523\n",
      "\n",
      "\n",
      "\n",
      "At cross fold 17 the cv score is 0.8791692059666049 and accuracy score for training is -1.1314189470606086 and accuracy for testing is 0.9618816259428523\n",
      "\n",
      "\n",
      "\n",
      "At cross fold 18 the cv score is 0.8931078445805025 and accuracy score for training is -1.1314189470606086 and accuracy for testing is 0.9618816259428523\n",
      "\n",
      "\n",
      "\n",
      "At cross fold 19 the cv score is 0.8891115254397224 and accuracy score for training is -1.1314189470606086 and accuracy for testing is 0.9618816259428523\n",
      "\n",
      "\n",
      "\n",
      "At cross fold 20 the cv score is 0.8859916284400791 and accuracy score for training is -1.1314189470606086 and accuracy for testing is 0.9618816259428523\n",
      "\n",
      "\n",
      "\n",
      "At cross fold 21 the cv score is 0.8846165204802073 and accuracy score for training is -1.1314189470606086 and accuracy for testing is 0.9618816259428523\n",
      "\n",
      "\n",
      "\n",
      "At cross fold 22 the cv score is 0.880892557264695 and accuracy score for training is -1.1314189470606086 and accuracy for testing is 0.9618816259428523\n",
      "\n",
      "\n",
      "\n",
      "At cross fold 23 the cv score is 0.8856379231796823 and accuracy score for training is -1.1314189470606086 and accuracy for testing is 0.9618816259428523\n",
      "\n",
      "\n",
      "\n",
      "At cross fold 24 the cv score is 0.8805869283199583 and accuracy score for training is -1.1314189470606086 and accuracy for testing is 0.9618816259428523\n",
      "\n",
      "\n",
      "\n",
      "At cross fold 25 the cv score is 0.8864128485281895 and accuracy score for training is -1.1314189470606086 and accuracy for testing is 0.9618816259428523\n",
      "\n",
      "\n",
      "\n",
      "At cross fold 26 the cv score is 0.8823504965721006 and accuracy score for training is -1.1314189470606086 and accuracy for testing is 0.9618816259428523\n",
      "\n",
      "\n",
      "\n",
      "At cross fold 27 the cv score is 0.87768441133993 and accuracy score for training is -1.1314189470606086 and accuracy for testing is 0.9618816259428523\n",
      "\n",
      "\n",
      "\n",
      "At cross fold 28 the cv score is 0.8792803914225142 and accuracy score for training is -1.1314189470606086 and accuracy for testing is 0.9618816259428523\n",
      "\n",
      "\n",
      "\n",
      "At cross fold 29 the cv score is 0.8678550752719114 and accuracy score for training is -1.1314189470606086 and accuracy for testing is 0.9618816259428523\n",
      "\n",
      "\n",
      "\n",
      "At cross fold 30 the cv score is 0.8633700157282355 and accuracy score for training is -1.1314189470606086 and accuracy for testing is 0.9618816259428523\n",
      "\n",
      "\n",
      "\n",
      "At cross fold 31 the cv score is 0.8711950797746462 and accuracy score for training is -1.1314189470606086 and accuracy for testing is 0.9618816259428523\n",
      "\n",
      "\n",
      "\n",
      "At cross fold 32 the cv score is 0.8702557869536686 and accuracy score for training is -1.1314189470606086 and accuracy for testing is 0.9618816259428523\n",
      "\n",
      "\n",
      "\n",
      "At cross fold 33 the cv score is 0.8744862738817698 and accuracy score for training is -1.1314189470606086 and accuracy for testing is 0.9618816259428523\n",
      "\n",
      "\n",
      "\n",
      "At cross fold 34 the cv score is 0.879138491788228 and accuracy score for training is -1.1314189470606086 and accuracy for testing is 0.9618816259428523\n",
      "\n",
      "\n",
      "\n",
      "At cross fold 35 the cv score is 0.8710589305279756 and accuracy score for training is -1.1314189470606086 and accuracy for testing is 0.9618816259428523\n",
      "\n",
      "\n",
      "\n",
      "At cross fold 36 the cv score is 0.8690616542472688 and accuracy score for training is -1.1314189470606086 and accuracy for testing is 0.9618816259428523\n",
      "\n",
      "\n",
      "\n",
      "At cross fold 37 the cv score is 0.8678008416954728 and accuracy score for training is -1.1314189470606086 and accuracy for testing is 0.9618816259428523\n",
      "\n",
      "\n",
      "\n",
      "At cross fold 38 the cv score is 0.8684790184796324 and accuracy score for training is -1.1314189470606086 and accuracy for testing is 0.9618816259428523\n",
      "\n",
      "\n",
      "\n",
      "At cross fold 39 the cv score is 0.87146008885587 and accuracy score for training is -1.1314189470606086 and accuracy for testing is 0.9618816259428523\n",
      "\n",
      "\n",
      "\n",
      "At cross fold 40 the cv score is 0.8630513271329049 and accuracy score for training is -1.1314189470606086 and accuracy for testing is 0.9618816259428523\n",
      "\n",
      "\n",
      "\n",
      "At cross fold 41 the cv score is 0.8603922153245056 and accuracy score for training is -1.1314189470606086 and accuracy for testing is 0.9618816259428523\n",
      "\n",
      "\n",
      "\n",
      "At cross fold 42 the cv score is 0.8446343253907768 and accuracy score for training is -1.1314189470606086 and accuracy for testing is 0.9618816259428523\n",
      "\n",
      "\n",
      "\n",
      "At cross fold 43 the cv score is 0.8437336176195371 and accuracy score for training is -1.1314189470606086 and accuracy for testing is 0.9618816259428523\n",
      "\n",
      "\n",
      "\n",
      "At cross fold 44 the cv score is 0.8462363620476242 and accuracy score for training is -1.1314189470606086 and accuracy for testing is 0.9618816259428523\n",
      "\n",
      "\n",
      "\n",
      "At cross fold 45 the cv score is 0.8435332609475852 and accuracy score for training is -1.1314189470606086 and accuracy for testing is 0.9618816259428523\n",
      "\n",
      "\n",
      "\n",
      "At cross fold 46 the cv score is 0.8051895696716894 and accuracy score for training is -1.1314189470606086 and accuracy for testing is 0.9618816259428523\n",
      "\n",
      "\n",
      "\n",
      "At cross fold 47 the cv score is 0.8069397938392471 and accuracy score for training is -1.1314189470606086 and accuracy for testing is 0.9618816259428523\n",
      "\n",
      "\n",
      "\n",
      "At cross fold 48 the cv score is 0.7564595225342529 and accuracy score for training is -1.1314189470606086 and accuracy for testing is 0.9618816259428523\n",
      "\n",
      "\n",
      "\n",
      "At cross fold 49 the cv score is 0.7475671029949018 and accuracy score for training is -1.1314189470606086 and accuracy for testing is 0.9618816259428523\n",
      "\n",
      "\n",
      "\n"
     ]
    }
   ],
   "source": [
    "Train_accuracy=r2_score(y_train,pred_train)\n",
    "Test_accuracy=r2_score(y_test,pred_test)\n",
    "\n",
    "from sklearn.model_selection import cross_val_score\n",
    "\n",
    "for i in range(2,50):\n",
    "    cv_score=cross_val_score(lr,x,y,cv=i)\n",
    "    cv_mean=cv_score.mean()\n",
    "    print (f\"At cross fold {i} the cv score is {cv_mean} and accuracy score for training is {Train_accuracy} and accuracy for testing is {Test_accuracy}\")\n",
    "    print (\"\\n\\n\")"
   ]
  },
  {
   "cell_type": "markdown",
   "metadata": {},
   "source": [
    "###### Here the difference between cv and accuracy score is too much so we will not consider this model"
   ]
  },
  {
   "cell_type": "code",
   "execution_count": 86,
   "metadata": {},
   "outputs": [
    {
     "data": {
      "image/png": "[encoded data removed]",
      "text/plain": [
       "<Figure size 1440x1440 with 1 Axes>"
      ]
     },
     "metadata": {
      "needs_background": "light"
     },
     "output_type": "display_data"
    }
   ],
   "source": [
    "import matplotlib.pyplot as plt\n",
    "plt.scatter (x=y_test,y=pred_test,color='r')\n",
    "\n",
    "plt.plot(y_test,y_test,color='b')\n",
    "\n",
    "plt.xlabel('Actual charges' ,fontsize=14)\n",
    "\n",
    "plt.ylabel('Predicted charges', fontsize=14)\n",
    "plt.title('Linear Regression' , fontsize=20)\n",
    "plt. show()"
   ]
  },
  {
   "cell_type": "markdown",
   "metadata": {},
   "source": [
    "# ---------------------------------------------------------------------------------------"
   ]
  },
  {
   "cell_type": "markdown",
   "metadata": {},
   "source": [
    "# Hyper Parameter tuning"
   ]
  },
  {
   "cell_type": "code",
   "execution_count": 87,
   "metadata": {},
   "outputs": [],
   "source": [
    "from sklearn.model_selection import GridSearchCV\n",
    "from sklearn.model_selection import cross_val_score"
   ]
  },
  {
   "cell_type": "code",
   "execution_count": 88,
   "metadata": {},
   "outputs": [
    {
     "name": "stdout",
     "output_type": "stream",
     "text": [
      "{'alpha': 0.1, 'random_state': 0}\n"
     ]
    }
   ],
   "source": [
    "from sklearn.linear_model import Lasso\n",
    "parameter={'alpha':[.0001,.001,.01,.1,1,10],'random_state':list(range(0,10))}\n",
    "\n",
    "ls= Lasso()\n",
    "clf=GridSearchCV(ls,parameter)\n",
    "clf.fit(x_train,y_train)\n",
    "\n",
    "print (clf.best_params_)\n"
   ]
  },
  {
   "cell_type": "code",
   "execution_count": 89,
   "metadata": {},
   "outputs": [
    {
     "data": {
      "text/plain": [
       "82.81555292107304"
      ]
     },
     "execution_count": 89,
     "metadata": {},
     "output_type": "execute_result"
    }
   ],
   "source": [
    "# Final model training\n",
    "ls=Lasso(alpha=1,random_state=0)\n",
    "ls.fit(x_train,y_train)\n",
    "ls_score_training = ls.score(x_train,y_train)\n",
    "pred_ls=ls.predict(x_test)\n",
    "ls_score_training*100"
   ]
  },
  {
   "cell_type": "code",
   "execution_count": 90,
   "metadata": {},
   "outputs": [],
   "source": [
    "pred_ls=ls.predict(x_test)"
   ]
  },
  {
   "cell_type": "code",
   "execution_count": 91,
   "metadata": {},
   "outputs": [
    {
     "data": {
      "text/plain": [
       "81.99865445557207"
      ]
     },
     "execution_count": 91,
     "metadata": {},
     "output_type": "execute_result"
    }
   ],
   "source": [
    "lss=r2_score(y_test,pred_ls)\n",
    "lss*100\n"
   ]
  },
  {
   "cell_type": "code",
   "execution_count": 92,
   "metadata": {},
   "outputs": [
    {
     "data": {
      "text/plain": [
       "82.70960357806553"
      ]
     },
     "execution_count": 92,
     "metadata": {},
     "output_type": "execute_result"
    }
   ],
   "source": [
    "cv_score=cross_val_score(ls,x,y,cv=5)\n",
    "cv_mean=cv_score.mean()\n",
    "cv_mean*100"
   ]
  },
  {
   "cell_type": "markdown",
   "metadata": {},
   "source": [
    "###### Over Linear Regression model is performing better than lasso"
   ]
  },
  {
   "cell_type": "markdown",
   "metadata": {},
   "source": [
    "# HPT on RandonForestRegressor"
   ]
  },
  {
   "cell_type": "code",
   "execution_count": 93,
   "metadata": {},
   "outputs": [],
   "source": [
    "from sklearn.model_selection import GridSearchCV\n",
    "from sklearn.ensemble import RandomForestRegressor\n"
   ]
  },
  {
   "cell_type": "code",
   "execution_count": 94,
   "metadata": {},
   "outputs": [
    {
     "name": "stdout",
     "output_type": "stream",
     "text": [
      "{'criterion': 'mae', 'max_features': 'auto'}\n"
     ]
    }
   ],
   "source": [
    "parameter={'criterion' :['mse','mae'],\n",
    "          'max_features':['auto','sqrt','log2']}\n",
    "rf=RandomForestRegressor()\n",
    "clf=GridSearchCV(rf,parameter)\n",
    "clf.fit(x_train,y_train)\n",
    "\n",
    "print (clf.best_params_)"
   ]
  },
  {
   "cell_type": "code",
   "execution_count": 95,
   "metadata": {},
   "outputs": [
    {
     "name": "stdout",
     "output_type": "stream",
     "text": [
      "R2 Score : 98.58236929653114\n",
      "Cross Val Score: 97.67620617305195\n"
     ]
    }
   ],
   "source": [
    "rf=RandomForestRegressor(criterion='mae',max_features='auto')\n",
    "rf.fit(x_train,y_train)\n",
    "rf.score(x_train,y_train)\n",
    "pred_decision= rf.predict(x_test)\n",
    "\n",
    "rfs=r2_score(y_test,pred_decision)\n",
    "print ('R2 Score :',rfs*100)\n",
    "\n",
    "rfscore=cross_val_score(rf,x,y,cv=5)\n",
    "rfc=rfscore.mean()\n",
    "print ('Cross Val Score:',rfc*100)"
   ]
  },
  {
   "cell_type": "markdown",
   "metadata": {},
   "source": [
    "##### Random forest Regressor is performing the best and the difference between r2_score and cross_val_score is also less its just 1%"
   ]
  },
  {
   "cell_type": "markdown",
   "metadata": {},
   "source": [
    "# Save the model"
   ]
  },
  {
   "cell_type": "code",
   "execution_count": 96,
   "metadata": {},
   "outputs": [],
   "source": [
    "import pickle\n",
    "filename='ASCP.pkl'\n",
    "pickle.dump(rf,open(filename,'wb'))"
   ]
  },
  {
   "cell_type": "code",
   "execution_count": 97,
   "metadata": {},
   "outputs": [
    {
     "name": "stdout",
     "output_type": "stream",
     "text": [
      "98.58236929653114\n"
     ]
    }
   ],
   "source": [
    "loaded_model=pickle.load(open('ASCP.pkl','rb'))\n",
    "result=loaded_model.score(x_test,y_test)\n",
    "print(result*100)"
   ]
  },
  {
   "cell_type": "code",
   "execution_count": null,
   "metadata": {},
   "outputs": [],
   "source": []
  }
 ],
 "metadata": {
  "kernelspec": {
   "display_name": "Python 3 (ipykernel)",
   "language": "python",
   "name": "python3"
  },
  "language_info": {
   "codemirror_mode": {
    "name": "ipython",
    "version": 3
   },
   "file_extension": ".py",
   "mimetype": "text/x-python",
   "name": "python",
   "nbconvert_exporter": "python",
   "pygments_lexer": "ipython3",
   "version": "3.9.12"
  }
 },
 "nbformat": 4,
 "nbformat_minor": 4
}
